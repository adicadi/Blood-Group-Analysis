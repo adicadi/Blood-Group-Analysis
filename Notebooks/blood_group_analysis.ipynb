{
 "cells": [
  {
   "cell_type": "code",
   "execution_count": 1,
   "metadata": {},
   "outputs": [],
   "source": [
    "import pandas as pd \n",
    "import numpy as np \n",
    "import matplotlib.pyplot as plt \n",
    "import seaborn as sns\n",
    "import plotly.express as px"
   ]
  },
  {
   "cell_type": "code",
   "execution_count": 10,
   "metadata": {},
   "outputs": [
    {
     "data": {
      "application/vnd.microsoft.datawrangler.viewer.v0+json": {
       "columns": [
        {
         "name": "index",
         "rawType": "int64",
         "type": "integer"
        },
        {
         "name": "Country/Dependency",
         "rawType": "object",
         "type": "string"
        },
        {
         "name": "Population",
         "rawType": "object",
         "type": "string"
        },
        {
         "name": "O+",
         "rawType": "object",
         "type": "string"
        },
        {
         "name": "A+",
         "rawType": "object",
         "type": "string"
        },
        {
         "name": "B+",
         "rawType": "object",
         "type": "string"
        },
        {
         "name": "AB+",
         "rawType": "object",
         "type": "string"
        },
        {
         "name": "O-",
         "rawType": "object",
         "type": "string"
        },
        {
         "name": "A-",
         "rawType": "object",
         "type": "string"
        },
        {
         "name": "B-",
         "rawType": "object",
         "type": "string"
        },
        {
         "name": "AB-",
         "rawType": "object",
         "type": "string"
        }
       ],
       "conversionMethod": "pd.DataFrame",
       "ref": "017ac386-d7b1-464d-a8ec-1a63b239f3a2",
       "rows": [
        [
         "0",
         "Albania",
         "3,074,579",
         "34.10%",
         "31.20%",
         "14.50%",
         "5.20%",
         "6.00%",
         "5.50%",
         "2.60%",
         "0.90%"
        ],
        [
         "1",
         "Algeria",
         "43,576,691",
         "40.00%",
         "30.00%",
         "15.00%",
         "4.25%",
         "6.60%",
         "2.30%",
         "1.10%",
         "0.75%"
        ],
        [
         "2",
         "Argentina",
         "45,479,118",
         "50.34%",
         "31.09%",
         "8.20%",
         "2.16%",
         "4.29%",
         "2.98%",
         "0.74%",
         "0.20%"
        ],
        [
         "3",
         "Armenia",
         "3,021,324",
         "29.00%",
         "46.30%",
         "12.00%",
         "5.60%",
         "2.00%",
         "3.70%",
         "1.00%",
         "0.40%"
        ],
        [
         "4",
         "Australia",
         "25,466,459",
         "38.00%",
         "32.00%",
         "12.00%",
         "4.00%",
         "7.00%",
         "6.00%",
         "2.00%",
         "1.00%"
        ]
       ],
       "shape": {
        "columns": 10,
        "rows": 5
       }
      },
      "text/html": [
       "<div>\n",
       "<style scoped>\n",
       "    .dataframe tbody tr th:only-of-type {\n",
       "        vertical-align: middle;\n",
       "    }\n",
       "\n",
       "    .dataframe tbody tr th {\n",
       "        vertical-align: top;\n",
       "    }\n",
       "\n",
       "    .dataframe thead th {\n",
       "        text-align: right;\n",
       "    }\n",
       "</style>\n",
       "<table border=\"1\" class=\"dataframe\">\n",
       "  <thead>\n",
       "    <tr style=\"text-align: right;\">\n",
       "      <th></th>\n",
       "      <th>Country/Dependency</th>\n",
       "      <th>Population</th>\n",
       "      <th>O+</th>\n",
       "      <th>A+</th>\n",
       "      <th>B+</th>\n",
       "      <th>AB+</th>\n",
       "      <th>O-</th>\n",
       "      <th>A-</th>\n",
       "      <th>B-</th>\n",
       "      <th>AB-</th>\n",
       "    </tr>\n",
       "  </thead>\n",
       "  <tbody>\n",
       "    <tr>\n",
       "      <th>0</th>\n",
       "      <td>Albania</td>\n",
       "      <td>3,074,579</td>\n",
       "      <td>34.10%</td>\n",
       "      <td>31.20%</td>\n",
       "      <td>14.50%</td>\n",
       "      <td>5.20%</td>\n",
       "      <td>6.00%</td>\n",
       "      <td>5.50%</td>\n",
       "      <td>2.60%</td>\n",
       "      <td>0.90%</td>\n",
       "    </tr>\n",
       "    <tr>\n",
       "      <th>1</th>\n",
       "      <td>Algeria</td>\n",
       "      <td>43,576,691</td>\n",
       "      <td>40.00%</td>\n",
       "      <td>30.00%</td>\n",
       "      <td>15.00%</td>\n",
       "      <td>4.25%</td>\n",
       "      <td>6.60%</td>\n",
       "      <td>2.30%</td>\n",
       "      <td>1.10%</td>\n",
       "      <td>0.75%</td>\n",
       "    </tr>\n",
       "    <tr>\n",
       "      <th>2</th>\n",
       "      <td>Argentina</td>\n",
       "      <td>45,479,118</td>\n",
       "      <td>50.34%</td>\n",
       "      <td>31.09%</td>\n",
       "      <td>8.20%</td>\n",
       "      <td>2.16%</td>\n",
       "      <td>4.29%</td>\n",
       "      <td>2.98%</td>\n",
       "      <td>0.74%</td>\n",
       "      <td>0.20%</td>\n",
       "    </tr>\n",
       "    <tr>\n",
       "      <th>3</th>\n",
       "      <td>Armenia</td>\n",
       "      <td>3,021,324</td>\n",
       "      <td>29.00%</td>\n",
       "      <td>46.30%</td>\n",
       "      <td>12.00%</td>\n",
       "      <td>5.60%</td>\n",
       "      <td>2.00%</td>\n",
       "      <td>3.70%</td>\n",
       "      <td>1.00%</td>\n",
       "      <td>0.40%</td>\n",
       "    </tr>\n",
       "    <tr>\n",
       "      <th>4</th>\n",
       "      <td>Australia</td>\n",
       "      <td>25,466,459</td>\n",
       "      <td>38.00%</td>\n",
       "      <td>32.00%</td>\n",
       "      <td>12.00%</td>\n",
       "      <td>4.00%</td>\n",
       "      <td>7.00%</td>\n",
       "      <td>6.00%</td>\n",
       "      <td>2.00%</td>\n",
       "      <td>1.00%</td>\n",
       "    </tr>\n",
       "  </tbody>\n",
       "</table>\n",
       "</div>"
      ],
      "text/plain": [
       "  Country/Dependency  Population      O+      A+      B+    AB+     O-     A-  \\\n",
       "0            Albania   3,074,579  34.10%  31.20%  14.50%  5.20%  6.00%  5.50%   \n",
       "1            Algeria  43,576,691  40.00%  30.00%  15.00%  4.25%  6.60%  2.30%   \n",
       "2          Argentina  45,479,118  50.34%  31.09%   8.20%  2.16%  4.29%  2.98%   \n",
       "3            Armenia   3,021,324  29.00%  46.30%  12.00%  5.60%  2.00%  3.70%   \n",
       "4          Australia  25,466,459  38.00%  32.00%  12.00%  4.00%  7.00%  6.00%   \n",
       "\n",
       "      B-    AB-  \n",
       "0  2.60%  0.90%  \n",
       "1  1.10%  0.75%  \n",
       "2  0.74%  0.20%  \n",
       "3  1.00%  0.40%  \n",
       "4  2.00%  1.00%  "
      ]
     },
     "execution_count": 10,
     "metadata": {},
     "output_type": "execute_result"
    }
   ],
   "source": [
    "file_path = \"../Data/cleaned_blood_type_distribution_by_country.csv\"\n",
    "df = pd.read_csv(file_path)\n",
    "\n",
    "df.head()"
   ]
  }
 ],
 "metadata": {
  "kernelspec": {
   "display_name": "blood_dashboard_env",
   "language": "python",
   "name": "python3"
  },
  "language_info": {
   "codemirror_mode": {
    "name": "ipython",
    "version": 3
   },
   "file_extension": ".py",
   "mimetype": "text/x-python",
   "name": "python",
   "nbconvert_exporter": "python",
   "pygments_lexer": "ipython3",
   "version": "3.13.2"
  }
 },
 "nbformat": 4,
 "nbformat_minor": 2
}
