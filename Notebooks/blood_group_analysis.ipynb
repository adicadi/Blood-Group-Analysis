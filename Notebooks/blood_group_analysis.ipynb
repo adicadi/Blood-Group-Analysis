{
 "cells": [
  {
   "cell_type": "code",
   "execution_count": 1,
   "metadata": {},
   "outputs": [],
   "source": [
    "import pandas as pd \n",
    "import numpy as np \n",
    "import matplotlib.pyplot as plt \n",
    "import seaborn as sns\n",
    "import plotly.express as px"
   ]
  },
  {
   "cell_type": "code",
   "execution_count": 2,
   "metadata": {},
   "outputs": [
    {
     "data": {
      "application/vnd.microsoft.datawrangler.viewer.v0+json": {
       "columns": [
        {
         "name": "index",
         "rawType": "int64",
         "type": "integer"
        },
        {
         "name": "Country/Dependency",
         "rawType": "object",
         "type": "string"
        },
        {
         "name": "Population",
         "rawType": "object",
         "type": "string"
        },
        {
         "name": "O+",
         "rawType": "object",
         "type": "string"
        },
        {
         "name": "A+",
         "rawType": "object",
         "type": "string"
        },
        {
         "name": "B+",
         "rawType": "object",
         "type": "string"
        },
        {
         "name": "AB+",
         "rawType": "object",
         "type": "string"
        },
        {
         "name": "O-",
         "rawType": "object",
         "type": "string"
        },
        {
         "name": "A-",
         "rawType": "object",
         "type": "string"
        },
        {
         "name": "B-",
         "rawType": "object",
         "type": "string"
        },
        {
         "name": "AB-",
         "rawType": "object",
         "type": "string"
        }
       ],
       "conversionMethod": "pd.DataFrame",
       "ref": "42bd617b-4dc2-414f-bb62-ff0a14ae49b7",
       "rows": [
        [
         "0",
         "Albania",
         "3,074,579",
         "34.10%",
         "31.20%",
         "14.50%",
         "5.20%",
         "6.00%",
         "5.50%",
         "2.60%",
         "0.90%"
        ],
        [
         "1",
         "Algeria",
         "43,576,691",
         "40.00%",
         "30.00%",
         "15.00%",
         "4.25%",
         "6.60%",
         "2.30%",
         "1.10%",
         "0.75%"
        ],
        [
         "2",
         "Argentina",
         "45,479,118",
         "50.34%",
         "31.09%",
         "8.20%",
         "2.16%",
         "4.29%",
         "2.98%",
         "0.74%",
         "0.20%"
        ],
        [
         "3",
         "Armenia",
         "3,021,324",
         "29.00%",
         "46.30%",
         "12.00%",
         "5.60%",
         "2.00%",
         "3.70%",
         "1.00%",
         "0.40%"
        ],
        [
         "4",
         "Australia",
         "25,466,459",
         "38.00%",
         "32.00%",
         "12.00%",
         "4.00%",
         "7.00%",
         "6.00%",
         "2.00%",
         "1.00%"
        ]
       ],
       "shape": {
        "columns": 10,
        "rows": 5
       }
      },
      "text/html": [
       "<div>\n",
       "<style scoped>\n",
       "    .dataframe tbody tr th:only-of-type {\n",
       "        vertical-align: middle;\n",
       "    }\n",
       "\n",
       "    .dataframe tbody tr th {\n",
       "        vertical-align: top;\n",
       "    }\n",
       "\n",
       "    .dataframe thead th {\n",
       "        text-align: right;\n",
       "    }\n",
       "</style>\n",
       "<table border=\"1\" class=\"dataframe\">\n",
       "  <thead>\n",
       "    <tr style=\"text-align: right;\">\n",
       "      <th></th>\n",
       "      <th>Country/Dependency</th>\n",
       "      <th>Population</th>\n",
       "      <th>O+</th>\n",
       "      <th>A+</th>\n",
       "      <th>B+</th>\n",
       "      <th>AB+</th>\n",
       "      <th>O-</th>\n",
       "      <th>A-</th>\n",
       "      <th>B-</th>\n",
       "      <th>AB-</th>\n",
       "    </tr>\n",
       "  </thead>\n",
       "  <tbody>\n",
       "    <tr>\n",
       "      <th>0</th>\n",
       "      <td>Albania</td>\n",
       "      <td>3,074,579</td>\n",
       "      <td>34.10%</td>\n",
       "      <td>31.20%</td>\n",
       "      <td>14.50%</td>\n",
       "      <td>5.20%</td>\n",
       "      <td>6.00%</td>\n",
       "      <td>5.50%</td>\n",
       "      <td>2.60%</td>\n",
       "      <td>0.90%</td>\n",
       "    </tr>\n",
       "    <tr>\n",
       "      <th>1</th>\n",
       "      <td>Algeria</td>\n",
       "      <td>43,576,691</td>\n",
       "      <td>40.00%</td>\n",
       "      <td>30.00%</td>\n",
       "      <td>15.00%</td>\n",
       "      <td>4.25%</td>\n",
       "      <td>6.60%</td>\n",
       "      <td>2.30%</td>\n",
       "      <td>1.10%</td>\n",
       "      <td>0.75%</td>\n",
       "    </tr>\n",
       "    <tr>\n",
       "      <th>2</th>\n",
       "      <td>Argentina</td>\n",
       "      <td>45,479,118</td>\n",
       "      <td>50.34%</td>\n",
       "      <td>31.09%</td>\n",
       "      <td>8.20%</td>\n",
       "      <td>2.16%</td>\n",
       "      <td>4.29%</td>\n",
       "      <td>2.98%</td>\n",
       "      <td>0.74%</td>\n",
       "      <td>0.20%</td>\n",
       "    </tr>\n",
       "    <tr>\n",
       "      <th>3</th>\n",
       "      <td>Armenia</td>\n",
       "      <td>3,021,324</td>\n",
       "      <td>29.00%</td>\n",
       "      <td>46.30%</td>\n",
       "      <td>12.00%</td>\n",
       "      <td>5.60%</td>\n",
       "      <td>2.00%</td>\n",
       "      <td>3.70%</td>\n",
       "      <td>1.00%</td>\n",
       "      <td>0.40%</td>\n",
       "    </tr>\n",
       "    <tr>\n",
       "      <th>4</th>\n",
       "      <td>Australia</td>\n",
       "      <td>25,466,459</td>\n",
       "      <td>38.00%</td>\n",
       "      <td>32.00%</td>\n",
       "      <td>12.00%</td>\n",
       "      <td>4.00%</td>\n",
       "      <td>7.00%</td>\n",
       "      <td>6.00%</td>\n",
       "      <td>2.00%</td>\n",
       "      <td>1.00%</td>\n",
       "    </tr>\n",
       "  </tbody>\n",
       "</table>\n",
       "</div>"
      ],
      "text/plain": [
       "  Country/Dependency  Population      O+      A+      B+    AB+     O-     A-  \\\n",
       "0            Albania   3,074,579  34.10%  31.20%  14.50%  5.20%  6.00%  5.50%   \n",
       "1            Algeria  43,576,691  40.00%  30.00%  15.00%  4.25%  6.60%  2.30%   \n",
       "2          Argentina  45,479,118  50.34%  31.09%   8.20%  2.16%  4.29%  2.98%   \n",
       "3            Armenia   3,021,324  29.00%  46.30%  12.00%  5.60%  2.00%  3.70%   \n",
       "4          Australia  25,466,459  38.00%  32.00%  12.00%  4.00%  7.00%  6.00%   \n",
       "\n",
       "      B-    AB-  \n",
       "0  2.60%  0.90%  \n",
       "1  1.10%  0.75%  \n",
       "2  0.74%  0.20%  \n",
       "3  1.00%  0.40%  \n",
       "4  2.00%  1.00%  "
      ]
     },
     "execution_count": 2,
     "metadata": {},
     "output_type": "execute_result"
    }
   ],
   "source": [
    "file_path = \"../Data/cleaned_blood_type_distribution_by_country.csv\"\n",
    "df = pd.read_csv(file_path)\n",
    "\n",
    "df.head()"
   ]
  },
  {
   "cell_type": "code",
   "execution_count": 3,
   "metadata": {},
   "outputs": [
    {
     "data": {
      "application/vnd.microsoft.datawrangler.viewer.v0+json": {
       "columns": [
        {
         "name": "index",
         "rawType": "int64",
         "type": "integer"
        },
        {
         "name": "Country",
         "rawType": "object",
         "type": "string"
        },
        {
         "name": "Population",
         "rawType": "object",
         "type": "string"
        },
        {
         "name": "O+",
         "rawType": "object",
         "type": "string"
        },
        {
         "name": "A+",
         "rawType": "object",
         "type": "string"
        },
        {
         "name": "B+",
         "rawType": "object",
         "type": "string"
        },
        {
         "name": "AB+",
         "rawType": "object",
         "type": "string"
        },
        {
         "name": "O-",
         "rawType": "object",
         "type": "string"
        },
        {
         "name": "A-",
         "rawType": "object",
         "type": "string"
        },
        {
         "name": "B-",
         "rawType": "object",
         "type": "string"
        },
        {
         "name": "AB-",
         "rawType": "object",
         "type": "string"
        }
       ],
       "conversionMethod": "pd.DataFrame",
       "ref": "e055813a-1423-4b30-9439-cd89e223ca91",
       "rows": [
        [
         "0",
         "Albania",
         "3,074,579",
         "34.10%",
         "31.20%",
         "14.50%",
         "5.20%",
         "6.00%",
         "5.50%",
         "2.60%",
         "0.90%"
        ],
        [
         "1",
         "Algeria",
         "43,576,691",
         "40.00%",
         "30.00%",
         "15.00%",
         "4.25%",
         "6.60%",
         "2.30%",
         "1.10%",
         "0.75%"
        ],
        [
         "2",
         "Argentina",
         "45,479,118",
         "50.34%",
         "31.09%",
         "8.20%",
         "2.16%",
         "4.29%",
         "2.98%",
         "0.74%",
         "0.20%"
        ],
        [
         "3",
         "Armenia",
         "3,021,324",
         "29.00%",
         "46.30%",
         "12.00%",
         "5.60%",
         "2.00%",
         "3.70%",
         "1.00%",
         "0.40%"
        ],
        [
         "4",
         "Australia",
         "25,466,459",
         "38.00%",
         "32.00%",
         "12.00%",
         "4.00%",
         "7.00%",
         "6.00%",
         "2.00%",
         "1.00%"
        ]
       ],
       "shape": {
        "columns": 10,
        "rows": 5
       }
      },
      "text/html": [
       "<div>\n",
       "<style scoped>\n",
       "    .dataframe tbody tr th:only-of-type {\n",
       "        vertical-align: middle;\n",
       "    }\n",
       "\n",
       "    .dataframe tbody tr th {\n",
       "        vertical-align: top;\n",
       "    }\n",
       "\n",
       "    .dataframe thead th {\n",
       "        text-align: right;\n",
       "    }\n",
       "</style>\n",
       "<table border=\"1\" class=\"dataframe\">\n",
       "  <thead>\n",
       "    <tr style=\"text-align: right;\">\n",
       "      <th></th>\n",
       "      <th>Country</th>\n",
       "      <th>Population</th>\n",
       "      <th>O+</th>\n",
       "      <th>A+</th>\n",
       "      <th>B+</th>\n",
       "      <th>AB+</th>\n",
       "      <th>O-</th>\n",
       "      <th>A-</th>\n",
       "      <th>B-</th>\n",
       "      <th>AB-</th>\n",
       "    </tr>\n",
       "  </thead>\n",
       "  <tbody>\n",
       "    <tr>\n",
       "      <th>0</th>\n",
       "      <td>Albania</td>\n",
       "      <td>3,074,579</td>\n",
       "      <td>34.10%</td>\n",
       "      <td>31.20%</td>\n",
       "      <td>14.50%</td>\n",
       "      <td>5.20%</td>\n",
       "      <td>6.00%</td>\n",
       "      <td>5.50%</td>\n",
       "      <td>2.60%</td>\n",
       "      <td>0.90%</td>\n",
       "    </tr>\n",
       "    <tr>\n",
       "      <th>1</th>\n",
       "      <td>Algeria</td>\n",
       "      <td>43,576,691</td>\n",
       "      <td>40.00%</td>\n",
       "      <td>30.00%</td>\n",
       "      <td>15.00%</td>\n",
       "      <td>4.25%</td>\n",
       "      <td>6.60%</td>\n",
       "      <td>2.30%</td>\n",
       "      <td>1.10%</td>\n",
       "      <td>0.75%</td>\n",
       "    </tr>\n",
       "    <tr>\n",
       "      <th>2</th>\n",
       "      <td>Argentina</td>\n",
       "      <td>45,479,118</td>\n",
       "      <td>50.34%</td>\n",
       "      <td>31.09%</td>\n",
       "      <td>8.20%</td>\n",
       "      <td>2.16%</td>\n",
       "      <td>4.29%</td>\n",
       "      <td>2.98%</td>\n",
       "      <td>0.74%</td>\n",
       "      <td>0.20%</td>\n",
       "    </tr>\n",
       "    <tr>\n",
       "      <th>3</th>\n",
       "      <td>Armenia</td>\n",
       "      <td>3,021,324</td>\n",
       "      <td>29.00%</td>\n",
       "      <td>46.30%</td>\n",
       "      <td>12.00%</td>\n",
       "      <td>5.60%</td>\n",
       "      <td>2.00%</td>\n",
       "      <td>3.70%</td>\n",
       "      <td>1.00%</td>\n",
       "      <td>0.40%</td>\n",
       "    </tr>\n",
       "    <tr>\n",
       "      <th>4</th>\n",
       "      <td>Australia</td>\n",
       "      <td>25,466,459</td>\n",
       "      <td>38.00%</td>\n",
       "      <td>32.00%</td>\n",
       "      <td>12.00%</td>\n",
       "      <td>4.00%</td>\n",
       "      <td>7.00%</td>\n",
       "      <td>6.00%</td>\n",
       "      <td>2.00%</td>\n",
       "      <td>1.00%</td>\n",
       "    </tr>\n",
       "  </tbody>\n",
       "</table>\n",
       "</div>"
      ],
      "text/plain": [
       "     Country  Population      O+      A+      B+    AB+     O-     A-     B-  \\\n",
       "0    Albania   3,074,579  34.10%  31.20%  14.50%  5.20%  6.00%  5.50%  2.60%   \n",
       "1    Algeria  43,576,691  40.00%  30.00%  15.00%  4.25%  6.60%  2.30%  1.10%   \n",
       "2  Argentina  45,479,118  50.34%  31.09%   8.20%  2.16%  4.29%  2.98%  0.74%   \n",
       "3    Armenia   3,021,324  29.00%  46.30%  12.00%  5.60%  2.00%  3.70%  1.00%   \n",
       "4  Australia  25,466,459  38.00%  32.00%  12.00%  4.00%  7.00%  6.00%  2.00%   \n",
       "\n",
       "     AB-  \n",
       "0  0.90%  \n",
       "1  0.75%  \n",
       "2  0.20%  \n",
       "3  0.40%  \n",
       "4  1.00%  "
      ]
     },
     "execution_count": 3,
     "metadata": {},
     "output_type": "execute_result"
    }
   ],
   "source": [
    "df.columns = df.columns.str.strip().str.replace(' ', '_')\n",
    "df.rename(columns = {'Country/Dependency':'Country'}, inplace = True)\n",
    "df.head()"
   ]
  },
  {
   "cell_type": "code",
   "execution_count": 4,
   "metadata": {},
   "outputs": [
    {
     "data": {
      "application/vnd.microsoft.datawrangler.viewer.v0+json": {
       "columns": [
        {
         "name": "index",
         "rawType": "int64",
         "type": "integer"
        },
        {
         "name": "Country",
         "rawType": "object",
         "type": "string"
        },
        {
         "name": "Population",
         "rawType": "float64",
         "type": "float"
        },
        {
         "name": "O+",
         "rawType": "object",
         "type": "string"
        },
        {
         "name": "A+",
         "rawType": "object",
         "type": "string"
        },
        {
         "name": "B+",
         "rawType": "object",
         "type": "string"
        },
        {
         "name": "AB+",
         "rawType": "object",
         "type": "string"
        },
        {
         "name": "O-",
         "rawType": "object",
         "type": "string"
        },
        {
         "name": "A-",
         "rawType": "object",
         "type": "string"
        },
        {
         "name": "B-",
         "rawType": "object",
         "type": "string"
        },
        {
         "name": "AB-",
         "rawType": "object",
         "type": "string"
        }
       ],
       "conversionMethod": "pd.DataFrame",
       "ref": "48f74662-93a8-4468-9297-f34727c0e72e",
       "rows": [
        [
         "0",
         "Albania",
         "3074579.0",
         "34.10%",
         "31.20%",
         "14.50%",
         "5.20%",
         "6.00%",
         "5.50%",
         "2.60%",
         "0.90%"
        ],
        [
         "1",
         "Algeria",
         "43576691.0",
         "40.00%",
         "30.00%",
         "15.00%",
         "4.25%",
         "6.60%",
         "2.30%",
         "1.10%",
         "0.75%"
        ],
        [
         "2",
         "Argentina",
         "45479118.0",
         "50.34%",
         "31.09%",
         "8.20%",
         "2.16%",
         "4.29%",
         "2.98%",
         "0.74%",
         "0.20%"
        ],
        [
         "3",
         "Armenia",
         "3021324.0",
         "29.00%",
         "46.30%",
         "12.00%",
         "5.60%",
         "2.00%",
         "3.70%",
         "1.00%",
         "0.40%"
        ],
        [
         "4",
         "Australia",
         "25466459.0",
         "38.00%",
         "32.00%",
         "12.00%",
         "4.00%",
         "7.00%",
         "6.00%",
         "2.00%",
         "1.00%"
        ]
       ],
       "shape": {
        "columns": 10,
        "rows": 5
       }
      },
      "text/html": [
       "<div>\n",
       "<style scoped>\n",
       "    .dataframe tbody tr th:only-of-type {\n",
       "        vertical-align: middle;\n",
       "    }\n",
       "\n",
       "    .dataframe tbody tr th {\n",
       "        vertical-align: top;\n",
       "    }\n",
       "\n",
       "    .dataframe thead th {\n",
       "        text-align: right;\n",
       "    }\n",
       "</style>\n",
       "<table border=\"1\" class=\"dataframe\">\n",
       "  <thead>\n",
       "    <tr style=\"text-align: right;\">\n",
       "      <th></th>\n",
       "      <th>Country</th>\n",
       "      <th>Population</th>\n",
       "      <th>O+</th>\n",
       "      <th>A+</th>\n",
       "      <th>B+</th>\n",
       "      <th>AB+</th>\n",
       "      <th>O-</th>\n",
       "      <th>A-</th>\n",
       "      <th>B-</th>\n",
       "      <th>AB-</th>\n",
       "    </tr>\n",
       "  </thead>\n",
       "  <tbody>\n",
       "    <tr>\n",
       "      <th>0</th>\n",
       "      <td>Albania</td>\n",
       "      <td>3074579.0</td>\n",
       "      <td>34.10%</td>\n",
       "      <td>31.20%</td>\n",
       "      <td>14.50%</td>\n",
       "      <td>5.20%</td>\n",
       "      <td>6.00%</td>\n",
       "      <td>5.50%</td>\n",
       "      <td>2.60%</td>\n",
       "      <td>0.90%</td>\n",
       "    </tr>\n",
       "    <tr>\n",
       "      <th>1</th>\n",
       "      <td>Algeria</td>\n",
       "      <td>43576691.0</td>\n",
       "      <td>40.00%</td>\n",
       "      <td>30.00%</td>\n",
       "      <td>15.00%</td>\n",
       "      <td>4.25%</td>\n",
       "      <td>6.60%</td>\n",
       "      <td>2.30%</td>\n",
       "      <td>1.10%</td>\n",
       "      <td>0.75%</td>\n",
       "    </tr>\n",
       "    <tr>\n",
       "      <th>2</th>\n",
       "      <td>Argentina</td>\n",
       "      <td>45479118.0</td>\n",
       "      <td>50.34%</td>\n",
       "      <td>31.09%</td>\n",
       "      <td>8.20%</td>\n",
       "      <td>2.16%</td>\n",
       "      <td>4.29%</td>\n",
       "      <td>2.98%</td>\n",
       "      <td>0.74%</td>\n",
       "      <td>0.20%</td>\n",
       "    </tr>\n",
       "    <tr>\n",
       "      <th>3</th>\n",
       "      <td>Armenia</td>\n",
       "      <td>3021324.0</td>\n",
       "      <td>29.00%</td>\n",
       "      <td>46.30%</td>\n",
       "      <td>12.00%</td>\n",
       "      <td>5.60%</td>\n",
       "      <td>2.00%</td>\n",
       "      <td>3.70%</td>\n",
       "      <td>1.00%</td>\n",
       "      <td>0.40%</td>\n",
       "    </tr>\n",
       "    <tr>\n",
       "      <th>4</th>\n",
       "      <td>Australia</td>\n",
       "      <td>25466459.0</td>\n",
       "      <td>38.00%</td>\n",
       "      <td>32.00%</td>\n",
       "      <td>12.00%</td>\n",
       "      <td>4.00%</td>\n",
       "      <td>7.00%</td>\n",
       "      <td>6.00%</td>\n",
       "      <td>2.00%</td>\n",
       "      <td>1.00%</td>\n",
       "    </tr>\n",
       "  </tbody>\n",
       "</table>\n",
       "</div>"
      ],
      "text/plain": [
       "     Country  Population      O+      A+      B+    AB+     O-     A-     B-  \\\n",
       "0    Albania   3074579.0  34.10%  31.20%  14.50%  5.20%  6.00%  5.50%  2.60%   \n",
       "1    Algeria  43576691.0  40.00%  30.00%  15.00%  4.25%  6.60%  2.30%  1.10%   \n",
       "2  Argentina  45479118.0  50.34%  31.09%   8.20%  2.16%  4.29%  2.98%  0.74%   \n",
       "3    Armenia   3021324.0  29.00%  46.30%  12.00%  5.60%  2.00%  3.70%  1.00%   \n",
       "4  Australia  25466459.0  38.00%  32.00%  12.00%  4.00%  7.00%  6.00%  2.00%   \n",
       "\n",
       "     AB-  \n",
       "0  0.90%  \n",
       "1  0.75%  \n",
       "2  0.20%  \n",
       "3  0.40%  \n",
       "4  1.00%  "
      ]
     },
     "execution_count": 4,
     "metadata": {},
     "output_type": "execute_result"
    }
   ],
   "source": [
    "df['Population'] = df['Population'].str.replace(',', '').astype(float)\n",
    "df.head()"
   ]
  },
  {
   "cell_type": "code",
   "execution_count": 5,
   "metadata": {},
   "outputs": [
    {
     "data": {
      "application/vnd.microsoft.datawrangler.viewer.v0+json": {
       "columns": [
        {
         "name": "index",
         "rawType": "int64",
         "type": "integer"
        },
        {
         "name": "Country",
         "rawType": "object",
         "type": "string"
        },
        {
         "name": "Population",
         "rawType": "float64",
         "type": "float"
        },
        {
         "name": "O+",
         "rawType": "float64",
         "type": "float"
        },
        {
         "name": "A+",
         "rawType": "float64",
         "type": "float"
        },
        {
         "name": "B+",
         "rawType": "float64",
         "type": "float"
        },
        {
         "name": "AB+",
         "rawType": "float64",
         "type": "float"
        },
        {
         "name": "O-",
         "rawType": "float64",
         "type": "float"
        },
        {
         "name": "A-",
         "rawType": "float64",
         "type": "float"
        },
        {
         "name": "B-",
         "rawType": "float64",
         "type": "float"
        },
        {
         "name": "AB-",
         "rawType": "float64",
         "type": "float"
        }
       ],
       "conversionMethod": "pd.DataFrame",
       "ref": "b94930ea-3d41-4e1b-9f29-fd81d1b89461",
       "rows": [
        [
         "0",
         "Albania",
         "3074579.0",
         "34.1",
         "31.2",
         "14.5",
         "5.2",
         "6.0",
         "5.5",
         "2.6",
         "0.9"
        ],
        [
         "1",
         "Algeria",
         "43576691.0",
         "40.0",
         "30.0",
         "15.0",
         "4.25",
         "6.6",
         "2.3",
         "1.1",
         "0.75"
        ],
        [
         "2",
         "Argentina",
         "45479118.0",
         "50.34",
         "31.09",
         "8.2",
         "2.16",
         "4.29",
         "2.98",
         "0.74",
         "0.2"
        ],
        [
         "3",
         "Armenia",
         "3021324.0",
         "29.0",
         "46.3",
         "12.0",
         "5.6",
         "2.0",
         "3.7",
         "1.0",
         "0.4"
        ],
        [
         "4",
         "Australia",
         "25466459.0",
         "38.0",
         "32.0",
         "12.0",
         "4.0",
         "7.0",
         "6.0",
         "2.0",
         "1.0"
        ]
       ],
       "shape": {
        "columns": 10,
        "rows": 5
       }
      },
      "text/html": [
       "<div>\n",
       "<style scoped>\n",
       "    .dataframe tbody tr th:only-of-type {\n",
       "        vertical-align: middle;\n",
       "    }\n",
       "\n",
       "    .dataframe tbody tr th {\n",
       "        vertical-align: top;\n",
       "    }\n",
       "\n",
       "    .dataframe thead th {\n",
       "        text-align: right;\n",
       "    }\n",
       "</style>\n",
       "<table border=\"1\" class=\"dataframe\">\n",
       "  <thead>\n",
       "    <tr style=\"text-align: right;\">\n",
       "      <th></th>\n",
       "      <th>Country</th>\n",
       "      <th>Population</th>\n",
       "      <th>O+</th>\n",
       "      <th>A+</th>\n",
       "      <th>B+</th>\n",
       "      <th>AB+</th>\n",
       "      <th>O-</th>\n",
       "      <th>A-</th>\n",
       "      <th>B-</th>\n",
       "      <th>AB-</th>\n",
       "    </tr>\n",
       "  </thead>\n",
       "  <tbody>\n",
       "    <tr>\n",
       "      <th>0</th>\n",
       "      <td>Albania</td>\n",
       "      <td>3074579.0</td>\n",
       "      <td>34.10</td>\n",
       "      <td>31.20</td>\n",
       "      <td>14.5</td>\n",
       "      <td>5.20</td>\n",
       "      <td>6.00</td>\n",
       "      <td>5.50</td>\n",
       "      <td>2.60</td>\n",
       "      <td>0.90</td>\n",
       "    </tr>\n",
       "    <tr>\n",
       "      <th>1</th>\n",
       "      <td>Algeria</td>\n",
       "      <td>43576691.0</td>\n",
       "      <td>40.00</td>\n",
       "      <td>30.00</td>\n",
       "      <td>15.0</td>\n",
       "      <td>4.25</td>\n",
       "      <td>6.60</td>\n",
       "      <td>2.30</td>\n",
       "      <td>1.10</td>\n",
       "      <td>0.75</td>\n",
       "    </tr>\n",
       "    <tr>\n",
       "      <th>2</th>\n",
       "      <td>Argentina</td>\n",
       "      <td>45479118.0</td>\n",
       "      <td>50.34</td>\n",
       "      <td>31.09</td>\n",
       "      <td>8.2</td>\n",
       "      <td>2.16</td>\n",
       "      <td>4.29</td>\n",
       "      <td>2.98</td>\n",
       "      <td>0.74</td>\n",
       "      <td>0.20</td>\n",
       "    </tr>\n",
       "    <tr>\n",
       "      <th>3</th>\n",
       "      <td>Armenia</td>\n",
       "      <td>3021324.0</td>\n",
       "      <td>29.00</td>\n",
       "      <td>46.30</td>\n",
       "      <td>12.0</td>\n",
       "      <td>5.60</td>\n",
       "      <td>2.00</td>\n",
       "      <td>3.70</td>\n",
       "      <td>1.00</td>\n",
       "      <td>0.40</td>\n",
       "    </tr>\n",
       "    <tr>\n",
       "      <th>4</th>\n",
       "      <td>Australia</td>\n",
       "      <td>25466459.0</td>\n",
       "      <td>38.00</td>\n",
       "      <td>32.00</td>\n",
       "      <td>12.0</td>\n",
       "      <td>4.00</td>\n",
       "      <td>7.00</td>\n",
       "      <td>6.00</td>\n",
       "      <td>2.00</td>\n",
       "      <td>1.00</td>\n",
       "    </tr>\n",
       "  </tbody>\n",
       "</table>\n",
       "</div>"
      ],
      "text/plain": [
       "     Country  Population     O+     A+    B+   AB+    O-    A-    B-   AB-\n",
       "0    Albania   3074579.0  34.10  31.20  14.5  5.20  6.00  5.50  2.60  0.90\n",
       "1    Algeria  43576691.0  40.00  30.00  15.0  4.25  6.60  2.30  1.10  0.75\n",
       "2  Argentina  45479118.0  50.34  31.09   8.2  2.16  4.29  2.98  0.74  0.20\n",
       "3    Armenia   3021324.0  29.00  46.30  12.0  5.60  2.00  3.70  1.00  0.40\n",
       "4  Australia  25466459.0  38.00  32.00  12.0  4.00  7.00  6.00  2.00  1.00"
      ]
     },
     "execution_count": 5,
     "metadata": {},
     "output_type": "execute_result"
    }
   ],
   "source": [
    "blood_groups = ['A+', 'A-', 'B+', 'B-', 'AB+', 'AB-', 'O+', 'O-']\n",
    "\n",
    "for col in blood_groups:\n",
    "    df[col] = df[col].str.replace('%', '').astype(float)\n",
    "    \n",
    "df.head()"
   ]
  },
  {
   "cell_type": "code",
   "execution_count": 6,
   "metadata": {},
   "outputs": [
    {
     "name": "stdout",
     "output_type": "stream",
     "text": [
      "Country       0\n",
      "Population    0\n",
      "O+            0\n",
      "A+            0\n",
      "B+            0\n",
      "AB+           1\n",
      "O-            1\n",
      "A-            1\n",
      "B-            1\n",
      "AB-           1\n",
      "dtype: int64\n"
     ]
    }
   ],
   "source": [
    "print(df.isnull().sum())"
   ]
  },
  {
   "cell_type": "code",
   "execution_count": 7,
   "metadata": {},
   "outputs": [],
   "source": [
    "df.fillna(0, inplace = True)"
   ]
  },
  {
   "cell_type": "code",
   "execution_count": 8,
   "metadata": {},
   "outputs": [],
   "source": [
    "df.to_csv(\"../Data/processed_blood_type_data.csv\", index = False)"
   ]
  },
  {
   "cell_type": "markdown",
   "metadata": {},
   "source": [
    "# Data Analysis"
   ]
  },
  {
   "cell_type": "code",
   "execution_count": 9,
   "metadata": {},
   "outputs": [
    {
     "data": {
      "application/vnd.microsoft.datawrangler.viewer.v0+json": {
       "columns": [
        {
         "name": "index",
         "rawType": "int64",
         "type": "integer"
        },
        {
         "name": "Country",
         "rawType": "object",
         "type": "string"
        },
        {
         "name": "Population",
         "rawType": "float64",
         "type": "float"
        },
        {
         "name": "O+",
         "rawType": "float64",
         "type": "float"
        },
        {
         "name": "A+",
         "rawType": "float64",
         "type": "float"
        },
        {
         "name": "B+",
         "rawType": "float64",
         "type": "float"
        },
        {
         "name": "AB+",
         "rawType": "float64",
         "type": "float"
        },
        {
         "name": "O-",
         "rawType": "float64",
         "type": "float"
        },
        {
         "name": "A-",
         "rawType": "float64",
         "type": "float"
        },
        {
         "name": "B-",
         "rawType": "float64",
         "type": "float"
        },
        {
         "name": "AB-",
         "rawType": "float64",
         "type": "float"
        }
       ],
       "conversionMethod": "pd.DataFrame",
       "ref": "71f7ed58-6295-4f98-92c6-db3146db4f71",
       "rows": [
        [
         "0",
         "Albania",
         "3074579.0",
         "34.1",
         "31.2",
         "14.5",
         "5.2",
         "6.0",
         "5.5",
         "2.6",
         "0.9"
        ],
        [
         "1",
         "Algeria",
         "43576691.0",
         "40.0",
         "30.0",
         "15.0",
         "4.25",
         "6.6",
         "2.3",
         "1.1",
         "0.75"
        ],
        [
         "2",
         "Argentina",
         "45479118.0",
         "50.34",
         "31.09",
         "8.2",
         "2.16",
         "4.29",
         "2.98",
         "0.74",
         "0.2"
        ],
        [
         "3",
         "Armenia",
         "3021324.0",
         "29.0",
         "46.3",
         "12.0",
         "5.6",
         "2.0",
         "3.7",
         "1.0",
         "0.4"
        ],
        [
         "4",
         "Australia",
         "25466459.0",
         "38.0",
         "32.0",
         "12.0",
         "4.0",
         "7.0",
         "6.0",
         "2.0",
         "1.0"
        ]
       ],
       "shape": {
        "columns": 10,
        "rows": 5
       }
      },
      "text/html": [
       "<div>\n",
       "<style scoped>\n",
       "    .dataframe tbody tr th:only-of-type {\n",
       "        vertical-align: middle;\n",
       "    }\n",
       "\n",
       "    .dataframe tbody tr th {\n",
       "        vertical-align: top;\n",
       "    }\n",
       "\n",
       "    .dataframe thead th {\n",
       "        text-align: right;\n",
       "    }\n",
       "</style>\n",
       "<table border=\"1\" class=\"dataframe\">\n",
       "  <thead>\n",
       "    <tr style=\"text-align: right;\">\n",
       "      <th></th>\n",
       "      <th>Country</th>\n",
       "      <th>Population</th>\n",
       "      <th>O+</th>\n",
       "      <th>A+</th>\n",
       "      <th>B+</th>\n",
       "      <th>AB+</th>\n",
       "      <th>O-</th>\n",
       "      <th>A-</th>\n",
       "      <th>B-</th>\n",
       "      <th>AB-</th>\n",
       "    </tr>\n",
       "  </thead>\n",
       "  <tbody>\n",
       "    <tr>\n",
       "      <th>0</th>\n",
       "      <td>Albania</td>\n",
       "      <td>3074579.0</td>\n",
       "      <td>34.10</td>\n",
       "      <td>31.20</td>\n",
       "      <td>14.5</td>\n",
       "      <td>5.20</td>\n",
       "      <td>6.00</td>\n",
       "      <td>5.50</td>\n",
       "      <td>2.60</td>\n",
       "      <td>0.90</td>\n",
       "    </tr>\n",
       "    <tr>\n",
       "      <th>1</th>\n",
       "      <td>Algeria</td>\n",
       "      <td>43576691.0</td>\n",
       "      <td>40.00</td>\n",
       "      <td>30.00</td>\n",
       "      <td>15.0</td>\n",
       "      <td>4.25</td>\n",
       "      <td>6.60</td>\n",
       "      <td>2.30</td>\n",
       "      <td>1.10</td>\n",
       "      <td>0.75</td>\n",
       "    </tr>\n",
       "    <tr>\n",
       "      <th>2</th>\n",
       "      <td>Argentina</td>\n",
       "      <td>45479118.0</td>\n",
       "      <td>50.34</td>\n",
       "      <td>31.09</td>\n",
       "      <td>8.2</td>\n",
       "      <td>2.16</td>\n",
       "      <td>4.29</td>\n",
       "      <td>2.98</td>\n",
       "      <td>0.74</td>\n",
       "      <td>0.20</td>\n",
       "    </tr>\n",
       "    <tr>\n",
       "      <th>3</th>\n",
       "      <td>Armenia</td>\n",
       "      <td>3021324.0</td>\n",
       "      <td>29.00</td>\n",
       "      <td>46.30</td>\n",
       "      <td>12.0</td>\n",
       "      <td>5.60</td>\n",
       "      <td>2.00</td>\n",
       "      <td>3.70</td>\n",
       "      <td>1.00</td>\n",
       "      <td>0.40</td>\n",
       "    </tr>\n",
       "    <tr>\n",
       "      <th>4</th>\n",
       "      <td>Australia</td>\n",
       "      <td>25466459.0</td>\n",
       "      <td>38.00</td>\n",
       "      <td>32.00</td>\n",
       "      <td>12.0</td>\n",
       "      <td>4.00</td>\n",
       "      <td>7.00</td>\n",
       "      <td>6.00</td>\n",
       "      <td>2.00</td>\n",
       "      <td>1.00</td>\n",
       "    </tr>\n",
       "  </tbody>\n",
       "</table>\n",
       "</div>"
      ],
      "text/plain": [
       "     Country  Population     O+     A+    B+   AB+    O-    A-    B-   AB-\n",
       "0    Albania   3074579.0  34.10  31.20  14.5  5.20  6.00  5.50  2.60  0.90\n",
       "1    Algeria  43576691.0  40.00  30.00  15.0  4.25  6.60  2.30  1.10  0.75\n",
       "2  Argentina  45479118.0  50.34  31.09   8.2  2.16  4.29  2.98  0.74  0.20\n",
       "3    Armenia   3021324.0  29.00  46.30  12.0  5.60  2.00  3.70  1.00  0.40\n",
       "4  Australia  25466459.0  38.00  32.00  12.0  4.00  7.00  6.00  2.00  1.00"
      ]
     },
     "execution_count": 9,
     "metadata": {},
     "output_type": "execute_result"
    }
   ],
   "source": [
    "df = pd.read_csv(\"../Data/processed_blood_type_data.csv\")\n",
    "df.head()"
   ]
  },
  {
   "cell_type": "code",
   "execution_count": 10,
   "metadata": {},
   "outputs": [
    {
     "data": {
      "application/vnd.microsoft.datawrangler.viewer.v0+json": {
       "columns": [
        {
         "name": "index",
         "rawType": "object",
         "type": "string"
        },
        {
         "name": "Population",
         "rawType": "float64",
         "type": "float"
        },
        {
         "name": "O+",
         "rawType": "float64",
         "type": "float"
        },
        {
         "name": "A+",
         "rawType": "float64",
         "type": "float"
        },
        {
         "name": "B+",
         "rawType": "float64",
         "type": "float"
        },
        {
         "name": "AB+",
         "rawType": "float64",
         "type": "float"
        },
        {
         "name": "O-",
         "rawType": "float64",
         "type": "float"
        },
        {
         "name": "A-",
         "rawType": "float64",
         "type": "float"
        },
        {
         "name": "B-",
         "rawType": "float64",
         "type": "float"
        },
        {
         "name": "AB-",
         "rawType": "float64",
         "type": "float"
        }
       ],
       "conversionMethod": "pd.DataFrame",
       "ref": "160bda22-88f4-45c9-a645-7ad393275085",
       "rows": [
        [
         "count",
         "126.0",
         "126.0",
         "126.0",
         "126.0",
         "126.0",
         "126.0",
         "126.0",
         "126.0",
         "126.0"
        ],
        [
         "mean",
         "119161104.48412699",
         "40.31499999999999",
         "29.24293650793651",
         "16.17785714285714",
         "4.575873015873015",
         "4.261269841269842",
         "3.3650000000000007",
         "1.3516666666666663",
         "0.45753968253968247"
        ],
        [
         "std",
         "709549678.2712833",
         "9.903147681419275",
         "6.525914135807834",
         "7.565480300115028",
         "2.29752432669298",
         "2.9981535608776233",
         "2.5568992940669366",
         "0.8655030906934995",
         "0.378154860358423"
        ],
        [
         "min",
         "39137.0",
         "27.0",
         "14.0",
         "4.72",
         "0.0",
         "0.0",
         "0.0",
         "0.0",
         "0.0"
        ],
        [
         "25%",
         "5495125.25",
         "32.655",
         "24.362499999999997",
         "9.7",
         "2.51",
         "1.85",
         "1.0",
         "0.6025",
         "0.1"
        ],
        [
         "50%",
         "12311040.0",
         "38.0",
         "30.0",
         "15.0",
         "4.2",
         "4.295",
         "2.76",
         "1.3",
         "0.4"
        ],
        [
         "75%",
         "45287374.25",
         "46.775",
         "34.0",
         "21.044999999999998",
         "6.21",
         "6.0",
         "6.0",
         "2.0",
         "0.875"
        ],
        [
         "max",
         "7772850805.0",
         "75.0",
         "46.3",
         "36.8",
         "11.32",
         "14.1",
         "8.1",
         "3.13",
         "1.2"
        ]
       ],
       "shape": {
        "columns": 9,
        "rows": 8
       }
      },
      "text/html": [
       "<div>\n",
       "<style scoped>\n",
       "    .dataframe tbody tr th:only-of-type {\n",
       "        vertical-align: middle;\n",
       "    }\n",
       "\n",
       "    .dataframe tbody tr th {\n",
       "        vertical-align: top;\n",
       "    }\n",
       "\n",
       "    .dataframe thead th {\n",
       "        text-align: right;\n",
       "    }\n",
       "</style>\n",
       "<table border=\"1\" class=\"dataframe\">\n",
       "  <thead>\n",
       "    <tr style=\"text-align: right;\">\n",
       "      <th></th>\n",
       "      <th>Population</th>\n",
       "      <th>O+</th>\n",
       "      <th>A+</th>\n",
       "      <th>B+</th>\n",
       "      <th>AB+</th>\n",
       "      <th>O-</th>\n",
       "      <th>A-</th>\n",
       "      <th>B-</th>\n",
       "      <th>AB-</th>\n",
       "    </tr>\n",
       "  </thead>\n",
       "  <tbody>\n",
       "    <tr>\n",
       "      <th>count</th>\n",
       "      <td>1.260000e+02</td>\n",
       "      <td>126.000000</td>\n",
       "      <td>126.000000</td>\n",
       "      <td>126.000000</td>\n",
       "      <td>126.000000</td>\n",
       "      <td>126.000000</td>\n",
       "      <td>126.000000</td>\n",
       "      <td>126.000000</td>\n",
       "      <td>126.000000</td>\n",
       "    </tr>\n",
       "    <tr>\n",
       "      <th>mean</th>\n",
       "      <td>1.191611e+08</td>\n",
       "      <td>40.315000</td>\n",
       "      <td>29.242937</td>\n",
       "      <td>16.177857</td>\n",
       "      <td>4.575873</td>\n",
       "      <td>4.261270</td>\n",
       "      <td>3.365000</td>\n",
       "      <td>1.351667</td>\n",
       "      <td>0.457540</td>\n",
       "    </tr>\n",
       "    <tr>\n",
       "      <th>std</th>\n",
       "      <td>7.095497e+08</td>\n",
       "      <td>9.903148</td>\n",
       "      <td>6.525914</td>\n",
       "      <td>7.565480</td>\n",
       "      <td>2.297524</td>\n",
       "      <td>2.998154</td>\n",
       "      <td>2.556899</td>\n",
       "      <td>0.865503</td>\n",
       "      <td>0.378155</td>\n",
       "    </tr>\n",
       "    <tr>\n",
       "      <th>min</th>\n",
       "      <td>3.913700e+04</td>\n",
       "      <td>27.000000</td>\n",
       "      <td>14.000000</td>\n",
       "      <td>4.720000</td>\n",
       "      <td>0.000000</td>\n",
       "      <td>0.000000</td>\n",
       "      <td>0.000000</td>\n",
       "      <td>0.000000</td>\n",
       "      <td>0.000000</td>\n",
       "    </tr>\n",
       "    <tr>\n",
       "      <th>25%</th>\n",
       "      <td>5.495125e+06</td>\n",
       "      <td>32.655000</td>\n",
       "      <td>24.362500</td>\n",
       "      <td>9.700000</td>\n",
       "      <td>2.510000</td>\n",
       "      <td>1.850000</td>\n",
       "      <td>1.000000</td>\n",
       "      <td>0.602500</td>\n",
       "      <td>0.100000</td>\n",
       "    </tr>\n",
       "    <tr>\n",
       "      <th>50%</th>\n",
       "      <td>1.231104e+07</td>\n",
       "      <td>38.000000</td>\n",
       "      <td>30.000000</td>\n",
       "      <td>15.000000</td>\n",
       "      <td>4.200000</td>\n",
       "      <td>4.295000</td>\n",
       "      <td>2.760000</td>\n",
       "      <td>1.300000</td>\n",
       "      <td>0.400000</td>\n",
       "    </tr>\n",
       "    <tr>\n",
       "      <th>75%</th>\n",
       "      <td>4.528737e+07</td>\n",
       "      <td>46.775000</td>\n",
       "      <td>34.000000</td>\n",
       "      <td>21.045000</td>\n",
       "      <td>6.210000</td>\n",
       "      <td>6.000000</td>\n",
       "      <td>6.000000</td>\n",
       "      <td>2.000000</td>\n",
       "      <td>0.875000</td>\n",
       "    </tr>\n",
       "    <tr>\n",
       "      <th>max</th>\n",
       "      <td>7.772851e+09</td>\n",
       "      <td>75.000000</td>\n",
       "      <td>46.300000</td>\n",
       "      <td>36.800000</td>\n",
       "      <td>11.320000</td>\n",
       "      <td>14.100000</td>\n",
       "      <td>8.100000</td>\n",
       "      <td>3.130000</td>\n",
       "      <td>1.200000</td>\n",
       "    </tr>\n",
       "  </tbody>\n",
       "</table>\n",
       "</div>"
      ],
      "text/plain": [
       "         Population          O+          A+          B+         AB+  \\\n",
       "count  1.260000e+02  126.000000  126.000000  126.000000  126.000000   \n",
       "mean   1.191611e+08   40.315000   29.242937   16.177857    4.575873   \n",
       "std    7.095497e+08    9.903148    6.525914    7.565480    2.297524   \n",
       "min    3.913700e+04   27.000000   14.000000    4.720000    0.000000   \n",
       "25%    5.495125e+06   32.655000   24.362500    9.700000    2.510000   \n",
       "50%    1.231104e+07   38.000000   30.000000   15.000000    4.200000   \n",
       "75%    4.528737e+07   46.775000   34.000000   21.045000    6.210000   \n",
       "max    7.772851e+09   75.000000   46.300000   36.800000   11.320000   \n",
       "\n",
       "               O-          A-          B-         AB-  \n",
       "count  126.000000  126.000000  126.000000  126.000000  \n",
       "mean     4.261270    3.365000    1.351667    0.457540  \n",
       "std      2.998154    2.556899    0.865503    0.378155  \n",
       "min      0.000000    0.000000    0.000000    0.000000  \n",
       "25%      1.850000    1.000000    0.602500    0.100000  \n",
       "50%      4.295000    2.760000    1.300000    0.400000  \n",
       "75%      6.000000    6.000000    2.000000    0.875000  \n",
       "max     14.100000    8.100000    3.130000    1.200000  "
      ]
     },
     "execution_count": 10,
     "metadata": {},
     "output_type": "execute_result"
    }
   ],
   "source": [
    "df.describe()"
   ]
  },
  {
   "cell_type": "code",
   "execution_count": 11,
   "metadata": {},
   "outputs": [
    {
     "name": "stdout",
     "output_type": "stream",
     "text": [
      "Country       0\n",
      "Population    0\n",
      "O+            0\n",
      "A+            0\n",
      "B+            0\n",
      "AB+           0\n",
      "O-            0\n",
      "A-            0\n",
      "B-            0\n",
      "AB-           0\n",
      "dtype: int64\n"
     ]
    }
   ],
   "source": [
    "print(df.isnull().sum())    "
   ]
  },
  {
   "cell_type": "markdown",
   "metadata": {},
   "source": [
    "# Visualization"
   ]
  },
  {
   "cell_type": "code",
   "execution_count": 12,
   "metadata": {},
   "outputs": [
    {
     "data": {
      "application/vnd.plotly.v1+json": {
       "config": {
        "plotlyServerURL": "https://plot.ly"
       },
       "data": [
        {
         "domain": {
          "x": [
           0,
           1
          ],
          "y": [
           0,
           1
          ]
         },
         "hovertemplate": "label=%{label}<br>value=%{value}<extra></extra>",
         "labels": [
          "A+",
          "A-",
          "B+",
          "B-",
          "AB+",
          "AB-",
          "O+",
          "O-"
         ],
         "legendgroup": "",
         "name": "",
         "showlegend": true,
         "type": "pie",
         "values": {
          "bdata": "fZdEFjE+PUDtUbgehesKQHHuswuILTBAn9MGOm2g9T9BS+ensU0SQIRUSIVUSN0/tx6F61EoRECGvT5SigsRQA==",
          "dtype": "f8"
         }
        }
       ],
       "layout": {
        "legend": {
         "tracegroupgap": 0
        },
        "template": {
         "data": {
          "bar": [
           {
            "error_x": {
             "color": "#2a3f5f"
            },
            "error_y": {
             "color": "#2a3f5f"
            },
            "marker": {
             "line": {
              "color": "#E5ECF6",
              "width": 0.5
             },
             "pattern": {
              "fillmode": "overlay",
              "size": 10,
              "solidity": 0.2
             }
            },
            "type": "bar"
           }
          ],
          "barpolar": [
           {
            "marker": {
             "line": {
              "color": "#E5ECF6",
              "width": 0.5
             },
             "pattern": {
              "fillmode": "overlay",
              "size": 10,
              "solidity": 0.2
             }
            },
            "type": "barpolar"
           }
          ],
          "carpet": [
           {
            "aaxis": {
             "endlinecolor": "#2a3f5f",
             "gridcolor": "white",
             "linecolor": "white",
             "minorgridcolor": "white",
             "startlinecolor": "#2a3f5f"
            },
            "baxis": {
             "endlinecolor": "#2a3f5f",
             "gridcolor": "white",
             "linecolor": "white",
             "minorgridcolor": "white",
             "startlinecolor": "#2a3f5f"
            },
            "type": "carpet"
           }
          ],
          "choropleth": [
           {
            "colorbar": {
             "outlinewidth": 0,
             "ticks": ""
            },
            "type": "choropleth"
           }
          ],
          "contour": [
           {
            "colorbar": {
             "outlinewidth": 0,
             "ticks": ""
            },
            "colorscale": [
             [
              0,
              "#0d0887"
             ],
             [
              0.1111111111111111,
              "#46039f"
             ],
             [
              0.2222222222222222,
              "#7201a8"
             ],
             [
              0.3333333333333333,
              "#9c179e"
             ],
             [
              0.4444444444444444,
              "#bd3786"
             ],
             [
              0.5555555555555556,
              "#d8576b"
             ],
             [
              0.6666666666666666,
              "#ed7953"
             ],
             [
              0.7777777777777778,
              "#fb9f3a"
             ],
             [
              0.8888888888888888,
              "#fdca26"
             ],
             [
              1,
              "#f0f921"
             ]
            ],
            "type": "contour"
           }
          ],
          "contourcarpet": [
           {
            "colorbar": {
             "outlinewidth": 0,
             "ticks": ""
            },
            "type": "contourcarpet"
           }
          ],
          "heatmap": [
           {
            "colorbar": {
             "outlinewidth": 0,
             "ticks": ""
            },
            "colorscale": [
             [
              0,
              "#0d0887"
             ],
             [
              0.1111111111111111,
              "#46039f"
             ],
             [
              0.2222222222222222,
              "#7201a8"
             ],
             [
              0.3333333333333333,
              "#9c179e"
             ],
             [
              0.4444444444444444,
              "#bd3786"
             ],
             [
              0.5555555555555556,
              "#d8576b"
             ],
             [
              0.6666666666666666,
              "#ed7953"
             ],
             [
              0.7777777777777778,
              "#fb9f3a"
             ],
             [
              0.8888888888888888,
              "#fdca26"
             ],
             [
              1,
              "#f0f921"
             ]
            ],
            "type": "heatmap"
           }
          ],
          "histogram": [
           {
            "marker": {
             "pattern": {
              "fillmode": "overlay",
              "size": 10,
              "solidity": 0.2
             }
            },
            "type": "histogram"
           }
          ],
          "histogram2d": [
           {
            "colorbar": {
             "outlinewidth": 0,
             "ticks": ""
            },
            "colorscale": [
             [
              0,
              "#0d0887"
             ],
             [
              0.1111111111111111,
              "#46039f"
             ],
             [
              0.2222222222222222,
              "#7201a8"
             ],
             [
              0.3333333333333333,
              "#9c179e"
             ],
             [
              0.4444444444444444,
              "#bd3786"
             ],
             [
              0.5555555555555556,
              "#d8576b"
             ],
             [
              0.6666666666666666,
              "#ed7953"
             ],
             [
              0.7777777777777778,
              "#fb9f3a"
             ],
             [
              0.8888888888888888,
              "#fdca26"
             ],
             [
              1,
              "#f0f921"
             ]
            ],
            "type": "histogram2d"
           }
          ],
          "histogram2dcontour": [
           {
            "colorbar": {
             "outlinewidth": 0,
             "ticks": ""
            },
            "colorscale": [
             [
              0,
              "#0d0887"
             ],
             [
              0.1111111111111111,
              "#46039f"
             ],
             [
              0.2222222222222222,
              "#7201a8"
             ],
             [
              0.3333333333333333,
              "#9c179e"
             ],
             [
              0.4444444444444444,
              "#bd3786"
             ],
             [
              0.5555555555555556,
              "#d8576b"
             ],
             [
              0.6666666666666666,
              "#ed7953"
             ],
             [
              0.7777777777777778,
              "#fb9f3a"
             ],
             [
              0.8888888888888888,
              "#fdca26"
             ],
             [
              1,
              "#f0f921"
             ]
            ],
            "type": "histogram2dcontour"
           }
          ],
          "mesh3d": [
           {
            "colorbar": {
             "outlinewidth": 0,
             "ticks": ""
            },
            "type": "mesh3d"
           }
          ],
          "parcoords": [
           {
            "line": {
             "colorbar": {
              "outlinewidth": 0,
              "ticks": ""
             }
            },
            "type": "parcoords"
           }
          ],
          "pie": [
           {
            "automargin": true,
            "type": "pie"
           }
          ],
          "scatter": [
           {
            "fillpattern": {
             "fillmode": "overlay",
             "size": 10,
             "solidity": 0.2
            },
            "type": "scatter"
           }
          ],
          "scatter3d": [
           {
            "line": {
             "colorbar": {
              "outlinewidth": 0,
              "ticks": ""
             }
            },
            "marker": {
             "colorbar": {
              "outlinewidth": 0,
              "ticks": ""
             }
            },
            "type": "scatter3d"
           }
          ],
          "scattercarpet": [
           {
            "marker": {
             "colorbar": {
              "outlinewidth": 0,
              "ticks": ""
             }
            },
            "type": "scattercarpet"
           }
          ],
          "scattergeo": [
           {
            "marker": {
             "colorbar": {
              "outlinewidth": 0,
              "ticks": ""
             }
            },
            "type": "scattergeo"
           }
          ],
          "scattergl": [
           {
            "marker": {
             "colorbar": {
              "outlinewidth": 0,
              "ticks": ""
             }
            },
            "type": "scattergl"
           }
          ],
          "scattermap": [
           {
            "marker": {
             "colorbar": {
              "outlinewidth": 0,
              "ticks": ""
             }
            },
            "type": "scattermap"
           }
          ],
          "scattermapbox": [
           {
            "marker": {
             "colorbar": {
              "outlinewidth": 0,
              "ticks": ""
             }
            },
            "type": "scattermapbox"
           }
          ],
          "scatterpolar": [
           {
            "marker": {
             "colorbar": {
              "outlinewidth": 0,
              "ticks": ""
             }
            },
            "type": "scatterpolar"
           }
          ],
          "scatterpolargl": [
           {
            "marker": {
             "colorbar": {
              "outlinewidth": 0,
              "ticks": ""
             }
            },
            "type": "scatterpolargl"
           }
          ],
          "scatterternary": [
           {
            "marker": {
             "colorbar": {
              "outlinewidth": 0,
              "ticks": ""
             }
            },
            "type": "scatterternary"
           }
          ],
          "surface": [
           {
            "colorbar": {
             "outlinewidth": 0,
             "ticks": ""
            },
            "colorscale": [
             [
              0,
              "#0d0887"
             ],
             [
              0.1111111111111111,
              "#46039f"
             ],
             [
              0.2222222222222222,
              "#7201a8"
             ],
             [
              0.3333333333333333,
              "#9c179e"
             ],
             [
              0.4444444444444444,
              "#bd3786"
             ],
             [
              0.5555555555555556,
              "#d8576b"
             ],
             [
              0.6666666666666666,
              "#ed7953"
             ],
             [
              0.7777777777777778,
              "#fb9f3a"
             ],
             [
              0.8888888888888888,
              "#fdca26"
             ],
             [
              1,
              "#f0f921"
             ]
            ],
            "type": "surface"
           }
          ],
          "table": [
           {
            "cells": {
             "fill": {
              "color": "#EBF0F8"
             },
             "line": {
              "color": "white"
             }
            },
            "header": {
             "fill": {
              "color": "#C8D4E3"
             },
             "line": {
              "color": "white"
             }
            },
            "type": "table"
           }
          ]
         },
         "layout": {
          "annotationdefaults": {
           "arrowcolor": "#2a3f5f",
           "arrowhead": 0,
           "arrowwidth": 1
          },
          "autotypenumbers": "strict",
          "coloraxis": {
           "colorbar": {
            "outlinewidth": 0,
            "ticks": ""
           }
          },
          "colorscale": {
           "diverging": [
            [
             0,
             "#8e0152"
            ],
            [
             0.1,
             "#c51b7d"
            ],
            [
             0.2,
             "#de77ae"
            ],
            [
             0.3,
             "#f1b6da"
            ],
            [
             0.4,
             "#fde0ef"
            ],
            [
             0.5,
             "#f7f7f7"
            ],
            [
             0.6,
             "#e6f5d0"
            ],
            [
             0.7,
             "#b8e186"
            ],
            [
             0.8,
             "#7fbc41"
            ],
            [
             0.9,
             "#4d9221"
            ],
            [
             1,
             "#276419"
            ]
           ],
           "sequential": [
            [
             0,
             "#0d0887"
            ],
            [
             0.1111111111111111,
             "#46039f"
            ],
            [
             0.2222222222222222,
             "#7201a8"
            ],
            [
             0.3333333333333333,
             "#9c179e"
            ],
            [
             0.4444444444444444,
             "#bd3786"
            ],
            [
             0.5555555555555556,
             "#d8576b"
            ],
            [
             0.6666666666666666,
             "#ed7953"
            ],
            [
             0.7777777777777778,
             "#fb9f3a"
            ],
            [
             0.8888888888888888,
             "#fdca26"
            ],
            [
             1,
             "#f0f921"
            ]
           ],
           "sequentialminus": [
            [
             0,
             "#0d0887"
            ],
            [
             0.1111111111111111,
             "#46039f"
            ],
            [
             0.2222222222222222,
             "#7201a8"
            ],
            [
             0.3333333333333333,
             "#9c179e"
            ],
            [
             0.4444444444444444,
             "#bd3786"
            ],
            [
             0.5555555555555556,
             "#d8576b"
            ],
            [
             0.6666666666666666,
             "#ed7953"
            ],
            [
             0.7777777777777778,
             "#fb9f3a"
            ],
            [
             0.8888888888888888,
             "#fdca26"
            ],
            [
             1,
             "#f0f921"
            ]
           ]
          },
          "colorway": [
           "#636efa",
           "#EF553B",
           "#00cc96",
           "#ab63fa",
           "#FFA15A",
           "#19d3f3",
           "#FF6692",
           "#B6E880",
           "#FF97FF",
           "#FECB52"
          ],
          "font": {
           "color": "#2a3f5f"
          },
          "geo": {
           "bgcolor": "white",
           "lakecolor": "white",
           "landcolor": "#E5ECF6",
           "showlakes": true,
           "showland": true,
           "subunitcolor": "white"
          },
          "hoverlabel": {
           "align": "left"
          },
          "hovermode": "closest",
          "mapbox": {
           "style": "light"
          },
          "paper_bgcolor": "white",
          "plot_bgcolor": "#E5ECF6",
          "polar": {
           "angularaxis": {
            "gridcolor": "white",
            "linecolor": "white",
            "ticks": ""
           },
           "bgcolor": "#E5ECF6",
           "radialaxis": {
            "gridcolor": "white",
            "linecolor": "white",
            "ticks": ""
           }
          },
          "scene": {
           "xaxis": {
            "backgroundcolor": "#E5ECF6",
            "gridcolor": "white",
            "gridwidth": 2,
            "linecolor": "white",
            "showbackground": true,
            "ticks": "",
            "zerolinecolor": "white"
           },
           "yaxis": {
            "backgroundcolor": "#E5ECF6",
            "gridcolor": "white",
            "gridwidth": 2,
            "linecolor": "white",
            "showbackground": true,
            "ticks": "",
            "zerolinecolor": "white"
           },
           "zaxis": {
            "backgroundcolor": "#E5ECF6",
            "gridcolor": "white",
            "gridwidth": 2,
            "linecolor": "white",
            "showbackground": true,
            "ticks": "",
            "zerolinecolor": "white"
           }
          },
          "shapedefaults": {
           "line": {
            "color": "#2a3f5f"
           }
          },
          "ternary": {
           "aaxis": {
            "gridcolor": "white",
            "linecolor": "white",
            "ticks": ""
           },
           "baxis": {
            "gridcolor": "white",
            "linecolor": "white",
            "ticks": ""
           },
           "bgcolor": "#E5ECF6",
           "caxis": {
            "gridcolor": "white",
            "linecolor": "white",
            "ticks": ""
           }
          },
          "title": {
           "x": 0.05
          },
          "xaxis": {
           "automargin": true,
           "gridcolor": "white",
           "linecolor": "white",
           "ticks": "",
           "title": {
            "standoff": 15
           },
           "zerolinecolor": "white",
           "zerolinewidth": 2
          },
          "yaxis": {
           "automargin": true,
           "gridcolor": "white",
           "linecolor": "white",
           "ticks": "",
           "title": {
            "standoff": 15
           },
           "zerolinecolor": "white",
           "zerolinewidth": 2
          }
         }
        },
        "title": {
         "text": "Global Blood Type Distribution"
        }
       }
      }
     },
     "metadata": {},
     "output_type": "display_data"
    }
   ],
   "source": [
    "avg_blood_distribution = df[['A+', 'A-', 'B+', 'B-', 'AB+', 'AB-', 'O+', 'O-']].mean()\n",
    "\n",
    "fig = px.pie(\n",
    "    values = avg_blood_distribution.values,\n",
    "    names = avg_blood_distribution.index,\n",
    "    title = 'Global Blood Type Distribution'\n",
    ")\n",
    "fig.show()"
   ]
  },
  {
   "cell_type": "code",
   "execution_count": 20,
   "metadata": {},
   "outputs": [
    {
     "data": {
      "application/vnd.plotly.v1+json": {
       "config": {
        "plotlyServerURL": "https://plot.ly"
       },
       "data": [
        {
         "alignmentgroup": "True",
         "hovertemplate": "variable=O+<br>Country=%{x}<br>value=%{y}<extra></extra>",
         "legendgroup": "O+",
         "marker": {
          "color": "#636efa",
          "line": {
           "color": "rgb(8,48,107)",
           "width": 1.5
          },
          "opacity": 0.8,
          "pattern": {
           "shape": ""
          }
         },
         "name": "O+",
         "offsetgroup": "O+",
         "opacity": 0.6,
         "orientation": "v",
         "showlegend": true,
         "textposition": "auto",
         "type": "bar",
         "x": [
          "World",
          "People's Republic of China",
          "India",
          "United States",
          "Indonesia",
          "Pakistan[citation needed]",
          "Nigeria",
          "Brazil",
          "Bangladesh",
          "Russia",
          "Mexico",
          "Japan",
          "Philippines",
          "Ethiopia",
          "Egypt",
          "Democratic Republic of the Congo",
          "Vietnam",
          "Iran",
          "Turkey",
          "Germany"
         ],
         "xaxis": "x",
         "y": {
          "bdata": "CtejhgE95kHNzMzoRlS8QXRGNHgD+LlBsHJo4w7fnUHRRNgP7HCXQY9TdDoKD5FBS8iHZ1BImkFSuB5Z9iuSQbAD54U624ZB9ShclxT5iEEGgdVP1R+SQd0kBnHm5IFBehSuUG7lh0EAAAAE/RqEQZHtfA+1F4JBrkfhw3zgjEFnZmadPaGDQVyPwhmhj31B0SLb0f/+dkEzMzOblMF6QQ==",
          "dtype": "f8"
         },
         "yaxis": "y"
        },
        {
         "alignmentgroup": "True",
         "hovertemplate": "variable=A+<br>Country=%{x}<br>value=%{y}<extra></extra>",
         "legendgroup": "A+",
         "marker": {
          "color": "#EF553B",
          "line": {
           "color": "rgb(8,48,107)",
           "width": 1.5
          },
          "opacity": 0.8,
          "pattern": {
           "shape": ""
          }
         },
         "name": "A+",
         "offsetgroup": "A+",
         "opacity": 0.6,
         "orientation": "v",
         "showlegend": true,
         "textposition": "auto",
         "type": "bar",
         "x": [
          "World",
          "People's Republic of China",
          "India",
          "United States",
          "Indonesia",
          "Pakistan[citation needed]",
          "Nigeria",
          "Brazil",
          "Bangladesh",
          "Russia",
          "Mexico",
          "Japan",
          "Philippines",
          "Ethiopia",
          "Egypt",
          "Democratic Republic of the Congo",
          "Vietnam",
          "Iran",
          "Turkey",
          "Germany"
         ],
         "xaxis": "x",
         "y": {
          "bdata": "w/VwK76e30HsUbh6JP+2Qd9PDaQrZ7FBYxBY8HaDnEG5a4mjSniQQWwr9sTPc4hBUieg5FKdhkEVrkcbhSmRQZhuEilPlIRBKVyPECeBhUEOLTJnPBeAQYcW2S6n0YdBwvUoahrYd0EBAAAgjN58QZHtfNfx2YBB8tJNwMWsdEGZmZmnSq1zQUjheuz43XVBgsDKPR71fUFxPQov/Eh8QQ==",
          "dtype": "f8"
         },
         "yaxis": "y"
        },
        {
         "alignmentgroup": "True",
         "hovertemplate": "variable=B+<br>Country=%{x}<br>value=%{y}<extra></extra>",
         "legendgroup": "B+",
         "marker": {
          "color": "#00cc96",
          "line": {
           "color": "rgb(8,48,107)",
           "width": 1.5
          },
          "opacity": 0.8,
          "pattern": {
           "shape": ""
          }
         },
         "name": "B+",
         "offsetgroup": "B+",
         "opacity": 0.6,
         "orientation": "v",
         "showlegend": true,
         "textposition": "auto",
         "type": "bar",
         "x": [
          "World",
          "People's Republic of China",
          "India",
          "United States",
          "Indonesia",
          "Pakistan[citation needed]",
          "Nigeria",
          "Brazil",
          "Bangladesh",
          "Russia",
          "Mexico",
          "Japan",
          "Philippines",
          "Ethiopia",
          "Egypt",
          "Democratic Republic of the Congo",
          "Vietnam",
          "Iran",
          "Turkey",
          "Germany"
         ],
         "xaxis": "x",
         "y": {
          "bdata": "cT2aSXnDwkHhehR5bxS4Qcl2/uYioLlBFa5H/d4ne0EbL13K+F2SQVr1uWIdLJFBJsKGVCqAhEHXo3DdEydwQZ88LMR26olBrkfhZkBcekF2vp/8Te5kQYcW2S6n0XdBj8L1bjbteUEAAAAY6aZ1QW3n+yk+0HRBWmQ7/wCCbUEzMzOLYP98Qc/3U/vG+nFB5tAi+0imZEFSuB5lSIVbQQ==",
          "dtype": "f8"
         },
         "yaxis": "y"
        },
        {
         "alignmentgroup": "True",
         "hovertemplate": "variable=AB+<br>Country=%{x}<br>value=%{y}<extra></extra>",
         "legendgroup": "AB+",
         "marker": {
          "color": "#ab63fa",
          "line": {
           "color": "rgb(8,48,107)",
           "width": 1.5
          },
          "opacity": 0.8,
          "pattern": {
           "shape": ""
          }
         },
         "name": "AB+",
         "offsetgroup": "AB+",
         "opacity": 0.6,
         "orientation": "v",
         "showlegend": true,
         "textposition": "auto",
         "type": "bar",
         "x": [
          "World",
          "People's Republic of China",
          "India",
          "United States",
          "Indonesia",
          "Pakistan[citation needed]",
          "Nigeria",
          "Brazil",
          "Bangladesh",
          "Russia",
          "Mexico",
          "Japan",
          "Philippines",
          "Ethiopia",
          "Egypt",
          "Democratic Republic of the Congo",
          "Vietnam",
          "Iran",
          "Turkey",
          "Germany"
         ],
         "xaxis": "x",
         "y": {
          "bdata": "MzMz8CuIokEfhevB9P6bQTvfTwZ2lphB3iQGMX+5ZUFb07wrSEV0QavP1ZSdDnRBEce6AOkMXUHNzMzU2DBUQZ+rrZQeBG5Bf2q8BOBOR0F/ary88vpAQajGS/cCs2dBRbbzqVPdWEEAAABg9p5UQR+F64HVLWFBsp3vJ/OiQkF7FK7fF8FSQXsUrkei6klBYhBYORgGVEHXo3A9eXZIQQ==",
          "dtype": "f8"
         },
         "yaxis": "y"
        },
        {
         "alignmentgroup": "True",
         "hovertemplate": "variable=O-<br>Country=%{x}<br>value=%{y}<extra></extra>",
         "legendgroup": "O-",
         "marker": {
          "color": "#FFA15A",
          "line": {
           "color": "rgb(8,48,107)",
           "width": 1.5
          },
          "opacity": 0.8,
          "pattern": {
           "shape": ""
          }
         },
         "name": "O-",
         "offsetgroup": "O-",
         "opacity": 0.6,
         "orientation": "v",
         "showlegend": true,
         "textposition": "auto",
         "type": "bar",
         "x": [
          "World",
          "People's Republic of China",
          "India",
          "United States",
          "Indonesia",
          "Pakistan[citation needed]",
          "Nigeria",
          "Brazil",
          "Bangladesh",
          "Russia",
          "Mexico",
          "Japan",
          "Philippines",
          "Ethiopia",
          "Egypt",
          "Democratic Republic of the Congo",
          "Vietnam",
          "Iran",
          "Turkey",
          "Germany"
         ],
         "xaxis": "x",
         "y": {
          "bdata": "61HgHs1U0EGF61G4iVRVQbJ78pbL7XlBTmIQMBlPf0HNqs/VHVYdQWq8dAOPKlxBTTeJEaWaVkFSuB5Z9ityQUtZhni3iipBpHA9ug2mYEGzne+PostKQW3n+6kp+wZBpHA9Cs2n+kAAAABAwb5IQQAAAAAAAAAAKVyPQpUPL0HNzMxMjxMSQc3MzGylMlBBiBbZTmGIS0HhehTu2lhSQQ==",
          "dtype": "f8"
         },
         "yaxis": "y"
        },
        {
         "alignmentgroup": "True",
         "hovertemplate": "variable=A-<br>Country=%{x}<br>value=%{y}<extra></extra>",
         "legendgroup": "A-",
         "marker": {
          "color": "#19d3f3",
          "line": {
           "color": "rgb(8,48,107)",
           "width": 1.5
          },
          "opacity": 0.8,
          "pattern": {
           "shape": ""
          }
         },
         "name": "A-",
         "offsetgroup": "A-",
         "opacity": 0.6,
         "orientation": "v",
         "showlegend": true,
         "textposition": "auto",
         "type": "bar",
         "x": [
          "World",
          "People's Republic of China",
          "India",
          "United States",
          "Indonesia",
          "Pakistan[citation needed]",
          "Nigeria",
          "Brazil",
          "Bangladesh",
          "Russia",
          "Mexico",
          "Japan",
          "Philippines",
          "Ethiopia",
          "Egypt",
          "Democratic Republic of the Congo",
          "Vietnam",
          "Iran",
          "Turkey",
          "Germany"
         ],
         "xaxis": "x",
         "y": {
          "bdata": "cT2aSXnDwkFnZmYmrKlKQayt2O/+XnFBVQ4tyoIyakGxUGsa+S8VQXZxG72wK1RBgy9MZjpsQ0HXo3DdEydwQZrmHae0CShBhetR+LwyVkGVQ4u8s8A3QTzfT403pA5BpHA9Cs2n+kAAAACAK39AQQAAAAAAAAAAsp3vJ/OiEkFnZmZmFBr4QHsUrkei6jlBFa5H0Tw1UUHhehTu2lhSQQ==",
          "dtype": "f8"
         },
         "yaxis": "y"
        },
        {
         "alignmentgroup": "True",
         "hovertemplate": "variable=B-<br>Country=%{x}<br>value=%{y}<extra></extra>",
         "legendgroup": "B-",
         "marker": {
          "color": "#FF6692",
          "line": {
           "color": "rgb(8,48,107)",
           "width": 1.5
          },
          "opacity": 0.8,
          "pattern": {
           "shape": ""
          }
         },
         "name": "B-",
         "offsetgroup": "B-",
         "opacity": 0.6,
         "orientation": "v",
         "showlegend": true,
         "textposition": "auto",
         "type": "bar",
         "x": [
          "World",
          "People's Republic of China",
          "India",
          "United States",
          "Indonesia",
          "Pakistan[citation needed]",
          "Nigeria",
          "Brazil",
          "Bangladesh",
          "Russia",
          "Mexico",
          "Japan",
          "Philippines",
          "Ethiopia",
          "Egypt",
          "Democratic Republic of the Congo",
          "Vietnam",
          "Iran",
          "Turkey",
          "Germany"
         ],
         "xaxis": "x",
         "y": {
          "bdata": "MzMz8CuIokGF61G4iVRFQUjheiSzi3lB4XoU/jMrU0FWDi0ybnIYQYUNT5dWcFxBAiuHRrmUQUHXo3DdEydQQUJg5dAhDC5BhetR+LwyNkGkcD0KmWgfQTzfT403pP5ApHA9Cs2n+kAAAACAK38wQQAAAAAAAAAA7nw/NUTZCEFnZmZmFBoIQc3MzGylMkBBgZVDy/9HOkHXo3A9eXY4QQ==",
          "dtype": "f8"
         },
         "yaxis": "y"
        },
        {
         "alignmentgroup": "True",
         "hovertemplate": "variable=AB-<br>Country=%{x}<br>value=%{y}<extra></extra>",
         "legendgroup": "AB-",
         "marker": {
          "color": "#B6E880",
          "line": {
           "color": "rgb(8,48,107)",
           "width": 1.5
          },
          "opacity": 0.8,
          "pattern": {
           "shape": ""
          }
         },
         "name": "AB-",
         "offsetgroup": "AB-",
         "opacity": 0.6,
         "orientation": "v",
         "showlegend": true,
         "textposition": "auto",
         "type": "bar",
         "x": [
          "World",
          "People's Republic of China",
          "India",
          "United States",
          "Indonesia",
          "Pakistan[citation needed]",
          "Nigeria",
          "Brazil",
          "Bangladesh",
          "Russia",
          "Mexico",
          "Japan",
          "Philippines",
          "Ethiopia",
          "Egypt",
          "Democratic Republic of the Congo",
          "Vietnam",
          "Iran",
          "Turkey",
          "Germany"
         ],
         "xaxis": "x",
         "y": {
          "bdata": "x0s3KYq4J0FI4XqUzv4/QdSa5p0chlhBz/dTY4arPkEp7Q2+qBP6QB44Z7RLiUBBQj7oWVVzGUHXo3DdEycwQa7YX/bfBhFBku1833b6M0FQjZdueiD5QDzfT403pO5A91PjpY/830AAAACAK38wQQAAAAAAAAAA7nw/NUTZ+EAfhetREEjTQC/dJAa1uyRBVg4tMlWFIUHXo3A9eXYoQQ==",
          "dtype": "f8"
         },
         "yaxis": "y"
        }
       ],
       "layout": {
        "bargap": 0.35,
        "barmode": "group",
        "height": 700,
        "legend": {
         "title": {
          "text": "variable"
         },
         "tracegroupgap": 0
        },
        "margin": {
         "b": 20,
         "l": 20,
         "r": 20,
         "t": 40
        },
        "template": {
         "data": {
          "bar": [
           {
            "error_x": {
             "color": "#2a3f5f"
            },
            "error_y": {
             "color": "#2a3f5f"
            },
            "marker": {
             "line": {
              "color": "#E5ECF6",
              "width": 0.5
             },
             "pattern": {
              "fillmode": "overlay",
              "size": 10,
              "solidity": 0.2
             }
            },
            "type": "bar"
           }
          ],
          "barpolar": [
           {
            "marker": {
             "line": {
              "color": "#E5ECF6",
              "width": 0.5
             },
             "pattern": {
              "fillmode": "overlay",
              "size": 10,
              "solidity": 0.2
             }
            },
            "type": "barpolar"
           }
          ],
          "carpet": [
           {
            "aaxis": {
             "endlinecolor": "#2a3f5f",
             "gridcolor": "white",
             "linecolor": "white",
             "minorgridcolor": "white",
             "startlinecolor": "#2a3f5f"
            },
            "baxis": {
             "endlinecolor": "#2a3f5f",
             "gridcolor": "white",
             "linecolor": "white",
             "minorgridcolor": "white",
             "startlinecolor": "#2a3f5f"
            },
            "type": "carpet"
           }
          ],
          "choropleth": [
           {
            "colorbar": {
             "outlinewidth": 0,
             "ticks": ""
            },
            "type": "choropleth"
           }
          ],
          "contour": [
           {
            "colorbar": {
             "outlinewidth": 0,
             "ticks": ""
            },
            "colorscale": [
             [
              0,
              "#0d0887"
             ],
             [
              0.1111111111111111,
              "#46039f"
             ],
             [
              0.2222222222222222,
              "#7201a8"
             ],
             [
              0.3333333333333333,
              "#9c179e"
             ],
             [
              0.4444444444444444,
              "#bd3786"
             ],
             [
              0.5555555555555556,
              "#d8576b"
             ],
             [
              0.6666666666666666,
              "#ed7953"
             ],
             [
              0.7777777777777778,
              "#fb9f3a"
             ],
             [
              0.8888888888888888,
              "#fdca26"
             ],
             [
              1,
              "#f0f921"
             ]
            ],
            "type": "contour"
           }
          ],
          "contourcarpet": [
           {
            "colorbar": {
             "outlinewidth": 0,
             "ticks": ""
            },
            "type": "contourcarpet"
           }
          ],
          "heatmap": [
           {
            "colorbar": {
             "outlinewidth": 0,
             "ticks": ""
            },
            "colorscale": [
             [
              0,
              "#0d0887"
             ],
             [
              0.1111111111111111,
              "#46039f"
             ],
             [
              0.2222222222222222,
              "#7201a8"
             ],
             [
              0.3333333333333333,
              "#9c179e"
             ],
             [
              0.4444444444444444,
              "#bd3786"
             ],
             [
              0.5555555555555556,
              "#d8576b"
             ],
             [
              0.6666666666666666,
              "#ed7953"
             ],
             [
              0.7777777777777778,
              "#fb9f3a"
             ],
             [
              0.8888888888888888,
              "#fdca26"
             ],
             [
              1,
              "#f0f921"
             ]
            ],
            "type": "heatmap"
           }
          ],
          "histogram": [
           {
            "marker": {
             "pattern": {
              "fillmode": "overlay",
              "size": 10,
              "solidity": 0.2
             }
            },
            "type": "histogram"
           }
          ],
          "histogram2d": [
           {
            "colorbar": {
             "outlinewidth": 0,
             "ticks": ""
            },
            "colorscale": [
             [
              0,
              "#0d0887"
             ],
             [
              0.1111111111111111,
              "#46039f"
             ],
             [
              0.2222222222222222,
              "#7201a8"
             ],
             [
              0.3333333333333333,
              "#9c179e"
             ],
             [
              0.4444444444444444,
              "#bd3786"
             ],
             [
              0.5555555555555556,
              "#d8576b"
             ],
             [
              0.6666666666666666,
              "#ed7953"
             ],
             [
              0.7777777777777778,
              "#fb9f3a"
             ],
             [
              0.8888888888888888,
              "#fdca26"
             ],
             [
              1,
              "#f0f921"
             ]
            ],
            "type": "histogram2d"
           }
          ],
          "histogram2dcontour": [
           {
            "colorbar": {
             "outlinewidth": 0,
             "ticks": ""
            },
            "colorscale": [
             [
              0,
              "#0d0887"
             ],
             [
              0.1111111111111111,
              "#46039f"
             ],
             [
              0.2222222222222222,
              "#7201a8"
             ],
             [
              0.3333333333333333,
              "#9c179e"
             ],
             [
              0.4444444444444444,
              "#bd3786"
             ],
             [
              0.5555555555555556,
              "#d8576b"
             ],
             [
              0.6666666666666666,
              "#ed7953"
             ],
             [
              0.7777777777777778,
              "#fb9f3a"
             ],
             [
              0.8888888888888888,
              "#fdca26"
             ],
             [
              1,
              "#f0f921"
             ]
            ],
            "type": "histogram2dcontour"
           }
          ],
          "mesh3d": [
           {
            "colorbar": {
             "outlinewidth": 0,
             "ticks": ""
            },
            "type": "mesh3d"
           }
          ],
          "parcoords": [
           {
            "line": {
             "colorbar": {
              "outlinewidth": 0,
              "ticks": ""
             }
            },
            "type": "parcoords"
           }
          ],
          "pie": [
           {
            "automargin": true,
            "type": "pie"
           }
          ],
          "scatter": [
           {
            "fillpattern": {
             "fillmode": "overlay",
             "size": 10,
             "solidity": 0.2
            },
            "type": "scatter"
           }
          ],
          "scatter3d": [
           {
            "line": {
             "colorbar": {
              "outlinewidth": 0,
              "ticks": ""
             }
            },
            "marker": {
             "colorbar": {
              "outlinewidth": 0,
              "ticks": ""
             }
            },
            "type": "scatter3d"
           }
          ],
          "scattercarpet": [
           {
            "marker": {
             "colorbar": {
              "outlinewidth": 0,
              "ticks": ""
             }
            },
            "type": "scattercarpet"
           }
          ],
          "scattergeo": [
           {
            "marker": {
             "colorbar": {
              "outlinewidth": 0,
              "ticks": ""
             }
            },
            "type": "scattergeo"
           }
          ],
          "scattergl": [
           {
            "marker": {
             "colorbar": {
              "outlinewidth": 0,
              "ticks": ""
             }
            },
            "type": "scattergl"
           }
          ],
          "scattermap": [
           {
            "marker": {
             "colorbar": {
              "outlinewidth": 0,
              "ticks": ""
             }
            },
            "type": "scattermap"
           }
          ],
          "scattermapbox": [
           {
            "marker": {
             "colorbar": {
              "outlinewidth": 0,
              "ticks": ""
             }
            },
            "type": "scattermapbox"
           }
          ],
          "scatterpolar": [
           {
            "marker": {
             "colorbar": {
              "outlinewidth": 0,
              "ticks": ""
             }
            },
            "type": "scatterpolar"
           }
          ],
          "scatterpolargl": [
           {
            "marker": {
             "colorbar": {
              "outlinewidth": 0,
              "ticks": ""
             }
            },
            "type": "scatterpolargl"
           }
          ],
          "scatterternary": [
           {
            "marker": {
             "colorbar": {
              "outlinewidth": 0,
              "ticks": ""
             }
            },
            "type": "scatterternary"
           }
          ],
          "surface": [
           {
            "colorbar": {
             "outlinewidth": 0,
             "ticks": ""
            },
            "colorscale": [
             [
              0,
              "#0d0887"
             ],
             [
              0.1111111111111111,
              "#46039f"
             ],
             [
              0.2222222222222222,
              "#7201a8"
             ],
             [
              0.3333333333333333,
              "#9c179e"
             ],
             [
              0.4444444444444444,
              "#bd3786"
             ],
             [
              0.5555555555555556,
              "#d8576b"
             ],
             [
              0.6666666666666666,
              "#ed7953"
             ],
             [
              0.7777777777777778,
              "#fb9f3a"
             ],
             [
              0.8888888888888888,
              "#fdca26"
             ],
             [
              1,
              "#f0f921"
             ]
            ],
            "type": "surface"
           }
          ],
          "table": [
           {
            "cells": {
             "fill": {
              "color": "#EBF0F8"
             },
             "line": {
              "color": "white"
             }
            },
            "header": {
             "fill": {
              "color": "#C8D4E3"
             },
             "line": {
              "color": "white"
             }
            },
            "type": "table"
           }
          ]
         },
         "layout": {
          "annotationdefaults": {
           "arrowcolor": "#2a3f5f",
           "arrowhead": 0,
           "arrowwidth": 1
          },
          "autotypenumbers": "strict",
          "coloraxis": {
           "colorbar": {
            "outlinewidth": 0,
            "ticks": ""
           }
          },
          "colorscale": {
           "diverging": [
            [
             0,
             "#8e0152"
            ],
            [
             0.1,
             "#c51b7d"
            ],
            [
             0.2,
             "#de77ae"
            ],
            [
             0.3,
             "#f1b6da"
            ],
            [
             0.4,
             "#fde0ef"
            ],
            [
             0.5,
             "#f7f7f7"
            ],
            [
             0.6,
             "#e6f5d0"
            ],
            [
             0.7,
             "#b8e186"
            ],
            [
             0.8,
             "#7fbc41"
            ],
            [
             0.9,
             "#4d9221"
            ],
            [
             1,
             "#276419"
            ]
           ],
           "sequential": [
            [
             0,
             "#0d0887"
            ],
            [
             0.1111111111111111,
             "#46039f"
            ],
            [
             0.2222222222222222,
             "#7201a8"
            ],
            [
             0.3333333333333333,
             "#9c179e"
            ],
            [
             0.4444444444444444,
             "#bd3786"
            ],
            [
             0.5555555555555556,
             "#d8576b"
            ],
            [
             0.6666666666666666,
             "#ed7953"
            ],
            [
             0.7777777777777778,
             "#fb9f3a"
            ],
            [
             0.8888888888888888,
             "#fdca26"
            ],
            [
             1,
             "#f0f921"
            ]
           ],
           "sequentialminus": [
            [
             0,
             "#0d0887"
            ],
            [
             0.1111111111111111,
             "#46039f"
            ],
            [
             0.2222222222222222,
             "#7201a8"
            ],
            [
             0.3333333333333333,
             "#9c179e"
            ],
            [
             0.4444444444444444,
             "#bd3786"
            ],
            [
             0.5555555555555556,
             "#d8576b"
            ],
            [
             0.6666666666666666,
             "#ed7953"
            ],
            [
             0.7777777777777778,
             "#fb9f3a"
            ],
            [
             0.8888888888888888,
             "#fdca26"
            ],
            [
             1,
             "#f0f921"
            ]
           ]
          },
          "colorway": [
           "#636efa",
           "#EF553B",
           "#00cc96",
           "#ab63fa",
           "#FFA15A",
           "#19d3f3",
           "#FF6692",
           "#B6E880",
           "#FF97FF",
           "#FECB52"
          ],
          "font": {
           "color": "#2a3f5f"
          },
          "geo": {
           "bgcolor": "white",
           "lakecolor": "white",
           "landcolor": "#E5ECF6",
           "showlakes": true,
           "showland": true,
           "subunitcolor": "white"
          },
          "hoverlabel": {
           "align": "left"
          },
          "hovermode": "closest",
          "mapbox": {
           "style": "light"
          },
          "paper_bgcolor": "white",
          "plot_bgcolor": "#E5ECF6",
          "polar": {
           "angularaxis": {
            "gridcolor": "white",
            "linecolor": "white",
            "ticks": ""
           },
           "bgcolor": "#E5ECF6",
           "radialaxis": {
            "gridcolor": "white",
            "linecolor": "white",
            "ticks": ""
           }
          },
          "scene": {
           "xaxis": {
            "backgroundcolor": "#E5ECF6",
            "gridcolor": "white",
            "gridwidth": 2,
            "linecolor": "white",
            "showbackground": true,
            "ticks": "",
            "zerolinecolor": "white"
           },
           "yaxis": {
            "backgroundcolor": "#E5ECF6",
            "gridcolor": "white",
            "gridwidth": 2,
            "linecolor": "white",
            "showbackground": true,
            "ticks": "",
            "zerolinecolor": "white"
           },
           "zaxis": {
            "backgroundcolor": "#E5ECF6",
            "gridcolor": "white",
            "gridwidth": 2,
            "linecolor": "white",
            "showbackground": true,
            "ticks": "",
            "zerolinecolor": "white"
           }
          },
          "shapedefaults": {
           "line": {
            "color": "#2a3f5f"
           }
          },
          "ternary": {
           "aaxis": {
            "gridcolor": "white",
            "linecolor": "white",
            "ticks": ""
           },
           "baxis": {
            "gridcolor": "white",
            "linecolor": "white",
            "ticks": ""
           },
           "bgcolor": "#E5ECF6",
           "caxis": {
            "gridcolor": "white",
            "linecolor": "white",
            "ticks": ""
           }
          },
          "title": {
           "x": 0.05
          },
          "xaxis": {
           "automargin": true,
           "gridcolor": "white",
           "linecolor": "white",
           "ticks": "",
           "title": {
            "standoff": 15
           },
           "zerolinecolor": "white",
           "zerolinewidth": 2
          },
          "yaxis": {
           "automargin": true,
           "gridcolor": "white",
           "linecolor": "white",
           "ticks": "",
           "title": {
            "standoff": 15
           },
           "zerolinecolor": "white",
           "zerolinewidth": 2
          }
         }
        },
        "title": {
         "text": "Top 20 Countries - Blood Group Distribution (By Population)"
        },
        "width": 1200,
        "xaxis": {
         "anchor": "y",
         "domain": [
          0,
          1
         ],
         "tickangle": -45,
         "title": {
          "text": "Country"
         }
        },
        "yaxis": {
         "anchor": "x",
         "domain": [
          0,
          1
         ],
         "title": {
          "text": "value"
         },
         "type": "log"
        }
       }
      }
     },
     "metadata": {},
     "output_type": "display_data"
    }
   ],
   "source": [
    "df_sorted = df.sort_values(by = 'Population', ascending = False)\n",
    "\n",
    "for col in blood_groups:\n",
    "    df_sorted[col] = (df_sorted[col] / 100) * df_sorted['Population']\n",
    "fig = px.bar(\n",
    "    df_sorted.head(20),  # Show only the top 20 countries\n",
    "    x=\"Country\",\n",
    "    y=[\"O+\", \"A+\", \"B+\", \"AB+\", \"O-\", \"A-\", \"B-\", \"AB-\"],\n",
    "    title=\"Top 20 Countries - Blood Group Distribution (By Population)\",\n",
    "    barmode=\"group\",\n",
    "    opacity=0.8  # Make bars more visible\n",
    ")\n",
    "\n",
    "fig.update_layout(\n",
    "    xaxis_tickangle=-45,\n",
    "    height=700,\n",
    "    width=1200,\n",
    "    yaxis_type=\"log\",\n",
    "    margin=dict(l=20, r=20, t=40, b=20),\n",
    "    bargap=0.35\n",
    ")\n",
    "fig.update_traces(marker_line_color='rgb(8,48,107)',\n",
    "                  marker_line_width=1.5, opacity=0.6)\n",
    "\n",
    "fig.show()\n"
   ]
  },
  {
   "cell_type": "code",
   "execution_count": 24,
   "metadata": {},
   "outputs": [
    {
     "data": {
      "application/vnd.plotly.v1+json": {
       "config": {
        "plotlyServerURL": "https://plot.ly"
       },
       "data": [
        {
         "coloraxis": "coloraxis",
         "customdata": {
          "bdata": "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",
          "dtype": "f8",
          "shape": "126, 7"
         },
         "geo": "geo",
         "hovertemplate": "Country=%{location}<br>A+=%{customdata[0]}<br>B+=%{customdata[1]}<br>AB+=%{customdata[2]}<br>O-=%{customdata[3]}<br>A-=%{customdata[4]}<br>B-=%{customdata[5]}<br>AB-=%{customdata[6]}<br>O+=%{z}<extra></extra>",
         "locationmode": "country names",
         "locations": [
          "Albania",
          "Algeria",
          "Argentina",
          "Armenia",
          "Australia",
          "Austria",
          "Azerbaijan",
          "Bahrain",
          "Bangladesh",
          "Belarus",
          "Belgium",
          "Bhutan[citation needed]",
          "Bolivia",
          "Bosnia and Herzegovina",
          "Brazil",
          "Bulgaria",
          "Burkina Faso",
          "Cambodia",
          "Cameroon",
          "Canada",
          "Chile",
          "Colombia",
          "Costa Rica",
          "Croatia",
          "Cuba",
          "Cyprus",
          "Czech Republic",
          "Democratic Republic of the Congo",
          "Denmark",
          "Dominican Republic",
          "Ecuador",
          "Egypt",
          "El Salvador",
          "Estonia",
          "Ethiopia",
          "Fiji",
          "Finland",
          "France",
          "Gabon",
          "Georgia",
          "Germany",
          "Ghana",
          "Greece",
          "Guinea",
          "Honduras",
          "Hong Kong",
          "Hungary",
          "Iceland",
          "India",
          "Indonesia",
          "Iran",
          "Iraq",
          "Ireland",
          "Israel",
          "Italy",
          "Ivory Coast",
          "Jamaica",
          "Japan",
          "Jordan",
          "Kazakhstan",
          "Kenya",
          "Laos",
          "Latvia",
          "Lebanon",
          "Libya",
          "Liechtenstein",
          "Lithuania",
          "Luxembourg",
          "Macao",
          "Malaysia",
          "Malta",
          "Mauritania",
          "Mauritius",
          "Mexico",
          "Moldova",
          "Mongolia",
          "Morocco",
          "Myanmar",
          "Namibia",
          "Nepal",
          "Netherlands",
          "New Zealand",
          "Nicaragua",
          "Nigeria",
          "North Korea",
          "North Macedonia",
          "Norway",
          "Pakistan[citation needed]",
          "Papua New Guinea",
          "Paraguay",
          "Peru",
          "Philippines",
          "Poland",
          "Portugal",
          "People's Republic of China",
          "Romania",
          "Russia",
          "Saudi Arabia",
          "Serbia",
          "Singapore",
          "Slovakia",
          "Slovenia",
          "Somalia",
          "South Africa",
          "South Korea",
          "Sri Lanka",
          "Spain",
          "Sudan",
          "Sweden",
          "Switzerland",
          "Syria",
          "Taiwan",
          "Thailand",
          "Tunisia",
          "Turkey",
          "Uganda",
          "Ukraine",
          "United Arab Emirates",
          "United Kingdom",
          "United States",
          "Uzbekistan",
          "Venezuela",
          "Vietnam",
          "Yemen",
          "Zimbabwe",
          "World"
         ],
         "name": "",
         "type": "choropleth",
         "z": {
          "bdata": "zczMzMwMQUAAAAAAAABEQOxRuB6FK0lAAAAAAAAAPUAAAAAAAABDQAAAAAAAAD5AzczMzMzMPUA9CtejcD1IQPYoXI/CNT1AZmZmZmYmQEAAAAAAAABDQDMzMzMzE0NApHA9CtfDSUAAAAAAAAA/QAAAAAAAAEJAAAAAAAAAPEC4HoXrUfhDQJqZmZmZWUdACtejcD1qR0AAAAAAAIBDQOF6FK5HgUtAZmZmZmamTkCamZmZmdlIQAAAAAAAAD1AZmZmZmbmRkBcj8L1KJxBQAAAAAAAADtAAAAAAADATUAAAAAAAIBBQJqZmZmZmUdAAAAAAADAUkC4HoXrUThCQAAAAAAAAE9AAAAAAACAPUAAAAAAAIBDQAAAAAAAgEVAAAAAAAAAPEAAAAAAAEBCQGZmZmZmxkxAZmZmZmZmQUAAAAAAAIBBQGZmZmZm5kpAZmZmZmbmQkBxPQrXo3BHQAAAAAAAwExAZmZmZmZmRUAAAAAAAAA7QGZmZmZmZkdApHA9CtdDQEApXI/C9WhCQAAAAAAAQEJAzczMzMwMQEAAAAAAAIBHQAAAAAAAAEBAAAAAAACAQ0AfhetRuJ5HQM3MzMzMjElAZmZmZmbmPUCkcD0K14NAQDMzMzMzsz5AzczMzMzMRkDD9Shcj8JCQJqZmZmZmT5AMzMzMzMzQ0BSuB6F61FFQAAAAAAAAEFAAAAAAAAAQkAAAAAAAIBBQAAAAAAAwERAKVyPwvUoQUAAAAAAAABDQGZmZmZmJkdAZmZmZmYmQ0DsUbgehYtNQAAAAAAAgDxAMzMzMzMzQkBmZmZmZiZFQJqZmZmZ2UFACtejcD1KSUCamZmZmZlBQJqZmZmZGUNAAAAAAACAQ0AAAAAAAABPQD0K16NwHUlAZmZmZmYmO0AAAAAAAAA+QJqZmZmZmUBACtejcD0KPkCamZmZmdlLQClcj8L1iE9AAAAAAACAUUAzMzMzM/NGQAAAAAAAAD9AmpmZmZkZQkAAAAAAAABBQAAAAAAAADxAAAAAAAAAQkBmZmZmZuZHQOxRuB6F6z9AmpmZmZlZRkAzMzMzMzM7QAAAAAAAAD9AZmZmZmZmSkAAAAAAAIBDQAAAAAAAAD1A9ihcj8K1RUAAAAAAAIBBQAAAAAAAAEhAAAAAAAAAQEAAAAAAAIBBQAAAAAAAgEVAMzMzMzPzRUBmZmZmZmZEQK5H4XoU7kRAZmZmZmZmPUCF61G4HqVIQAAAAAAAAEBAzczMzMwMRkAAAAAAAIBBQDMzMzMzs0JA7FG4HoVrPUBmZmZmZiZNQJqZmZmZ2URA7FG4HoXrR0AzMzMzMzNCQDMzMzMzM0NA",
          "dtype": "f8"
         }
        }
       ],
       "layout": {
        "coloraxis": {
         "colorbar": {
          "title": {
           "text": "O+"
          }
         },
         "colorscale": [
          [
           0,
           "#0d0887"
          ],
          [
           0.1111111111111111,
           "#46039f"
          ],
          [
           0.2222222222222222,
           "#7201a8"
          ],
          [
           0.3333333333333333,
           "#9c179e"
          ],
          [
           0.4444444444444444,
           "#bd3786"
          ],
          [
           0.5555555555555556,
           "#d8576b"
          ],
          [
           0.6666666666666666,
           "#ed7953"
          ],
          [
           0.7777777777777778,
           "#fb9f3a"
          ],
          [
           0.8888888888888888,
           "#fdca26"
          ],
          [
           1,
           "#f0f921"
          ]
         ]
        },
        "geo": {
         "center": {},
         "domain": {
          "x": [
           0,
           1
          ],
          "y": [
           0,
           1
          ]
         },
         "projection": {
          "type": "equirectangular"
         },
         "showcoastlines": false,
         "showframe": false
        },
        "legend": {
         "tracegroupgap": 0
        },
        "margin": {
         "b": 0,
         "l": 0,
         "r": 0,
         "t": 50
        },
        "template": {
         "data": {
          "bar": [
           {
            "error_x": {
             "color": "#2a3f5f"
            },
            "error_y": {
             "color": "#2a3f5f"
            },
            "marker": {
             "line": {
              "color": "#E5ECF6",
              "width": 0.5
             },
             "pattern": {
              "fillmode": "overlay",
              "size": 10,
              "solidity": 0.2
             }
            },
            "type": "bar"
           }
          ],
          "barpolar": [
           {
            "marker": {
             "line": {
              "color": "#E5ECF6",
              "width": 0.5
             },
             "pattern": {
              "fillmode": "overlay",
              "size": 10,
              "solidity": 0.2
             }
            },
            "type": "barpolar"
           }
          ],
          "carpet": [
           {
            "aaxis": {
             "endlinecolor": "#2a3f5f",
             "gridcolor": "white",
             "linecolor": "white",
             "minorgridcolor": "white",
             "startlinecolor": "#2a3f5f"
            },
            "baxis": {
             "endlinecolor": "#2a3f5f",
             "gridcolor": "white",
             "linecolor": "white",
             "minorgridcolor": "white",
             "startlinecolor": "#2a3f5f"
            },
            "type": "carpet"
           }
          ],
          "choropleth": [
           {
            "colorbar": {
             "outlinewidth": 0,
             "ticks": ""
            },
            "type": "choropleth"
           }
          ],
          "contour": [
           {
            "colorbar": {
             "outlinewidth": 0,
             "ticks": ""
            },
            "colorscale": [
             [
              0,
              "#0d0887"
             ],
             [
              0.1111111111111111,
              "#46039f"
             ],
             [
              0.2222222222222222,
              "#7201a8"
             ],
             [
              0.3333333333333333,
              "#9c179e"
             ],
             [
              0.4444444444444444,
              "#bd3786"
             ],
             [
              0.5555555555555556,
              "#d8576b"
             ],
             [
              0.6666666666666666,
              "#ed7953"
             ],
             [
              0.7777777777777778,
              "#fb9f3a"
             ],
             [
              0.8888888888888888,
              "#fdca26"
             ],
             [
              1,
              "#f0f921"
             ]
            ],
            "type": "contour"
           }
          ],
          "contourcarpet": [
           {
            "colorbar": {
             "outlinewidth": 0,
             "ticks": ""
            },
            "type": "contourcarpet"
           }
          ],
          "heatmap": [
           {
            "colorbar": {
             "outlinewidth": 0,
             "ticks": ""
            },
            "colorscale": [
             [
              0,
              "#0d0887"
             ],
             [
              0.1111111111111111,
              "#46039f"
             ],
             [
              0.2222222222222222,
              "#7201a8"
             ],
             [
              0.3333333333333333,
              "#9c179e"
             ],
             [
              0.4444444444444444,
              "#bd3786"
             ],
             [
              0.5555555555555556,
              "#d8576b"
             ],
             [
              0.6666666666666666,
              "#ed7953"
             ],
             [
              0.7777777777777778,
              "#fb9f3a"
             ],
             [
              0.8888888888888888,
              "#fdca26"
             ],
             [
              1,
              "#f0f921"
             ]
            ],
            "type": "heatmap"
           }
          ],
          "histogram": [
           {
            "marker": {
             "pattern": {
              "fillmode": "overlay",
              "size": 10,
              "solidity": 0.2
             }
            },
            "type": "histogram"
           }
          ],
          "histogram2d": [
           {
            "colorbar": {
             "outlinewidth": 0,
             "ticks": ""
            },
            "colorscale": [
             [
              0,
              "#0d0887"
             ],
             [
              0.1111111111111111,
              "#46039f"
             ],
             [
              0.2222222222222222,
              "#7201a8"
             ],
             [
              0.3333333333333333,
              "#9c179e"
             ],
             [
              0.4444444444444444,
              "#bd3786"
             ],
             [
              0.5555555555555556,
              "#d8576b"
             ],
             [
              0.6666666666666666,
              "#ed7953"
             ],
             [
              0.7777777777777778,
              "#fb9f3a"
             ],
             [
              0.8888888888888888,
              "#fdca26"
             ],
             [
              1,
              "#f0f921"
             ]
            ],
            "type": "histogram2d"
           }
          ],
          "histogram2dcontour": [
           {
            "colorbar": {
             "outlinewidth": 0,
             "ticks": ""
            },
            "colorscale": [
             [
              0,
              "#0d0887"
             ],
             [
              0.1111111111111111,
              "#46039f"
             ],
             [
              0.2222222222222222,
              "#7201a8"
             ],
             [
              0.3333333333333333,
              "#9c179e"
             ],
             [
              0.4444444444444444,
              "#bd3786"
             ],
             [
              0.5555555555555556,
              "#d8576b"
             ],
             [
              0.6666666666666666,
              "#ed7953"
             ],
             [
              0.7777777777777778,
              "#fb9f3a"
             ],
             [
              0.8888888888888888,
              "#fdca26"
             ],
             [
              1,
              "#f0f921"
             ]
            ],
            "type": "histogram2dcontour"
           }
          ],
          "mesh3d": [
           {
            "colorbar": {
             "outlinewidth": 0,
             "ticks": ""
            },
            "type": "mesh3d"
           }
          ],
          "parcoords": [
           {
            "line": {
             "colorbar": {
              "outlinewidth": 0,
              "ticks": ""
             }
            },
            "type": "parcoords"
           }
          ],
          "pie": [
           {
            "automargin": true,
            "type": "pie"
           }
          ],
          "scatter": [
           {
            "fillpattern": {
             "fillmode": "overlay",
             "size": 10,
             "solidity": 0.2
            },
            "type": "scatter"
           }
          ],
          "scatter3d": [
           {
            "line": {
             "colorbar": {
              "outlinewidth": 0,
              "ticks": ""
             }
            },
            "marker": {
             "colorbar": {
              "outlinewidth": 0,
              "ticks": ""
             }
            },
            "type": "scatter3d"
           }
          ],
          "scattercarpet": [
           {
            "marker": {
             "colorbar": {
              "outlinewidth": 0,
              "ticks": ""
             }
            },
            "type": "scattercarpet"
           }
          ],
          "scattergeo": [
           {
            "marker": {
             "colorbar": {
              "outlinewidth": 0,
              "ticks": ""
             }
            },
            "type": "scattergeo"
           }
          ],
          "scattergl": [
           {
            "marker": {
             "colorbar": {
              "outlinewidth": 0,
              "ticks": ""
             }
            },
            "type": "scattergl"
           }
          ],
          "scattermap": [
           {
            "marker": {
             "colorbar": {
              "outlinewidth": 0,
              "ticks": ""
             }
            },
            "type": "scattermap"
           }
          ],
          "scattermapbox": [
           {
            "marker": {
             "colorbar": {
              "outlinewidth": 0,
              "ticks": ""
             }
            },
            "type": "scattermapbox"
           }
          ],
          "scatterpolar": [
           {
            "marker": {
             "colorbar": {
              "outlinewidth": 0,
              "ticks": ""
             }
            },
            "type": "scatterpolar"
           }
          ],
          "scatterpolargl": [
           {
            "marker": {
             "colorbar": {
              "outlinewidth": 0,
              "ticks": ""
             }
            },
            "type": "scatterpolargl"
           }
          ],
          "scatterternary": [
           {
            "marker": {
             "colorbar": {
              "outlinewidth": 0,
              "ticks": ""
             }
            },
            "type": "scatterternary"
           }
          ],
          "surface": [
           {
            "colorbar": {
             "outlinewidth": 0,
             "ticks": ""
            },
            "colorscale": [
             [
              0,
              "#0d0887"
             ],
             [
              0.1111111111111111,
              "#46039f"
             ],
             [
              0.2222222222222222,
              "#7201a8"
             ],
             [
              0.3333333333333333,
              "#9c179e"
             ],
             [
              0.4444444444444444,
              "#bd3786"
             ],
             [
              0.5555555555555556,
              "#d8576b"
             ],
             [
              0.6666666666666666,
              "#ed7953"
             ],
             [
              0.7777777777777778,
              "#fb9f3a"
             ],
             [
              0.8888888888888888,
              "#fdca26"
             ],
             [
              1,
              "#f0f921"
             ]
            ],
            "type": "surface"
           }
          ],
          "table": [
           {
            "cells": {
             "fill": {
              "color": "#EBF0F8"
             },
             "line": {
              "color": "white"
             }
            },
            "header": {
             "fill": {
              "color": "#C8D4E3"
             },
             "line": {
              "color": "white"
             }
            },
            "type": "table"
           }
          ]
         },
         "layout": {
          "annotationdefaults": {
           "arrowcolor": "#2a3f5f",
           "arrowhead": 0,
           "arrowwidth": 1
          },
          "autotypenumbers": "strict",
          "coloraxis": {
           "colorbar": {
            "outlinewidth": 0,
            "ticks": ""
           }
          },
          "colorscale": {
           "diverging": [
            [
             0,
             "#8e0152"
            ],
            [
             0.1,
             "#c51b7d"
            ],
            [
             0.2,
             "#de77ae"
            ],
            [
             0.3,
             "#f1b6da"
            ],
            [
             0.4,
             "#fde0ef"
            ],
            [
             0.5,
             "#f7f7f7"
            ],
            [
             0.6,
             "#e6f5d0"
            ],
            [
             0.7,
             "#b8e186"
            ],
            [
             0.8,
             "#7fbc41"
            ],
            [
             0.9,
             "#4d9221"
            ],
            [
             1,
             "#276419"
            ]
           ],
           "sequential": [
            [
             0,
             "#0d0887"
            ],
            [
             0.1111111111111111,
             "#46039f"
            ],
            [
             0.2222222222222222,
             "#7201a8"
            ],
            [
             0.3333333333333333,
             "#9c179e"
            ],
            [
             0.4444444444444444,
             "#bd3786"
            ],
            [
             0.5555555555555556,
             "#d8576b"
            ],
            [
             0.6666666666666666,
             "#ed7953"
            ],
            [
             0.7777777777777778,
             "#fb9f3a"
            ],
            [
             0.8888888888888888,
             "#fdca26"
            ],
            [
             1,
             "#f0f921"
            ]
           ],
           "sequentialminus": [
            [
             0,
             "#0d0887"
            ],
            [
             0.1111111111111111,
             "#46039f"
            ],
            [
             0.2222222222222222,
             "#7201a8"
            ],
            [
             0.3333333333333333,
             "#9c179e"
            ],
            [
             0.4444444444444444,
             "#bd3786"
            ],
            [
             0.5555555555555556,
             "#d8576b"
            ],
            [
             0.6666666666666666,
             "#ed7953"
            ],
            [
             0.7777777777777778,
             "#fb9f3a"
            ],
            [
             0.8888888888888888,
             "#fdca26"
            ],
            [
             1,
             "#f0f921"
            ]
           ]
          },
          "colorway": [
           "#636efa",
           "#EF553B",
           "#00cc96",
           "#ab63fa",
           "#FFA15A",
           "#19d3f3",
           "#FF6692",
           "#B6E880",
           "#FF97FF",
           "#FECB52"
          ],
          "font": {
           "color": "#2a3f5f"
          },
          "geo": {
           "bgcolor": "white",
           "lakecolor": "white",
           "landcolor": "#E5ECF6",
           "showlakes": true,
           "showland": true,
           "subunitcolor": "white"
          },
          "hoverlabel": {
           "align": "left"
          },
          "hovermode": "closest",
          "mapbox": {
           "style": "light"
          },
          "paper_bgcolor": "white",
          "plot_bgcolor": "#E5ECF6",
          "polar": {
           "angularaxis": {
            "gridcolor": "white",
            "linecolor": "white",
            "ticks": ""
           },
           "bgcolor": "#E5ECF6",
           "radialaxis": {
            "gridcolor": "white",
            "linecolor": "white",
            "ticks": ""
           }
          },
          "scene": {
           "xaxis": {
            "backgroundcolor": "#E5ECF6",
            "gridcolor": "white",
            "gridwidth": 2,
            "linecolor": "white",
            "showbackground": true,
            "ticks": "",
            "zerolinecolor": "white"
           },
           "yaxis": {
            "backgroundcolor": "#E5ECF6",
            "gridcolor": "white",
            "gridwidth": 2,
            "linecolor": "white",
            "showbackground": true,
            "ticks": "",
            "zerolinecolor": "white"
           },
           "zaxis": {
            "backgroundcolor": "#E5ECF6",
            "gridcolor": "white",
            "gridwidth": 2,
            "linecolor": "white",
            "showbackground": true,
            "ticks": "",
            "zerolinecolor": "white"
           }
          },
          "shapedefaults": {
           "line": {
            "color": "#2a3f5f"
           }
          },
          "ternary": {
           "aaxis": {
            "gridcolor": "white",
            "linecolor": "white",
            "ticks": ""
           },
           "baxis": {
            "gridcolor": "white",
            "linecolor": "white",
            "ticks": ""
           },
           "bgcolor": "#E5ECF6",
           "caxis": {
            "gridcolor": "white",
            "linecolor": "white",
            "ticks": ""
           }
          },
          "title": {
           "x": 0.05
          },
          "xaxis": {
           "automargin": true,
           "gridcolor": "white",
           "linecolor": "white",
           "ticks": "",
           "title": {
            "standoff": 15
           },
           "zerolinecolor": "white",
           "zerolinewidth": 2
          },
          "yaxis": {
           "automargin": true,
           "gridcolor": "white",
           "linecolor": "white",
           "ticks": "",
           "title": {
            "standoff": 15
           },
           "zerolinecolor": "white",
           "zerolinewidth": 2
          }
         }
        },
        "title": {
         "text": "Blood Type O+ Distribution Across the World"
        }
       }
      }
     },
     "metadata": {},
     "output_type": "display_data"
    }
   ],
   "source": [
    "fig = px.choropleth(\n",
    "    df,\n",
    "    locations=\"Country\",\n",
    "    locationmode=\"country names\",\n",
    "    color=\"O+\",\n",
    "    hover_data = [\"A+\", \"B+\", \"AB+\", \"O-\", \"A-\", \"B-\", \"AB-\"],\n",
    "    title=\"Blood Type O+ Distribution Across the World\"\n",
    ")\n",
    "\n",
    "fig.update_layout(\n",
    "    geo=dict(\n",
    "        showframe=False,\n",
    "        showcoastlines=False,\n",
    "        projection_type='equirectangular'\n",
    "    ),\n",
    "    margin=dict(l=0, r=0, t=50, b=0)\n",
    ")\n",
    "\n",
    "fig.show()"
   ]
  },
  {
   "cell_type": "markdown",
   "metadata": {},
   "source": [
    "# Converting the countries to continents "
   ]
  },
  {
   "cell_type": "code",
   "execution_count": 27,
   "metadata": {},
   "outputs": [
    {
     "name": "stdout",
     "output_type": "stream",
     "text": [
      "Continent\n",
      "Europe           39\n",
      "Asia             38\n",
      "Africa           23\n",
      "North America    10\n",
      "South America     9\n",
      "Oceania           4\n",
      "Unknown           3\n",
      "Name: count, dtype: int64\n"
     ]
    }
   ],
   "source": [
    "import pycountry_convert as pc\n",
    "\n",
    "def get_continent(country_name):\n",
    "    try:\n",
    "        country_code = pc.country_name_to_country_alpha2(country_name)\n",
    "        continent_code = pc.country_alpha2_to_continent_code(country_code)\n",
    "        continent_map = {\n",
    "            \"AF\": \"Africa\",\n",
    "            \"AS\": \"Asia\",\n",
    "            \"EU\": \"Europe\",\n",
    "            \"NA\": \"North America\",\n",
    "            \"SA\": \"South America\",\n",
    "            \"OC\": \"Oceania\",\n",
    "        }\n",
    "        return continent_map.get(continent_code, \"Unknown\")\n",
    "    except:\n",
    "        return \"Unknown\"\n",
    "\n",
    "df[\"Continent\"] = df[\"Country\"].apply(get_continent)\n",
    "\n",
    "print(df[\"Continent\"].value_counts())\n"
   ]
  },
  {
   "cell_type": "code",
   "execution_count": 31,
   "metadata": {},
   "outputs": [
    {
     "data": {
      "application/vnd.plotly.v1+json": {
       "config": {
        "plotlyServerURL": "https://plot.ly"
       },
       "data": [
        {
         "hovertemplate": "variable=A+<br>Continent=%{x}<br>value=%{y}<extra></extra>",
         "legendgroup": "A+",
         "marker": {
          "color": "#636efa",
          "pattern": {
           "shape": ""
          }
         },
         "name": "A+",
         "orientation": "v",
         "showlegend": true,
         "textposition": "auto",
         "type": "bar",
         "x": [
          "Africa",
          "Asia",
          "Europe",
          "North America",
          "Oceania",
          "South America",
          "Unknown"
         ],
         "xaxis": "x",
         "y": {
          "bdata": "4TkCRVvNOEBoGh1+IgA8QAP7fJyUVkFAAiuHFtluO0AAAAAAABBAQCh90id9EjhAGEt+seQXOkA=",
          "dtype": "f8"
         },
         "yaxis": "y"
        },
        {
         "hovertemplate": "variable=A-<br>Continent=%{x}<br>value=%{y}<extra></extra>",
         "legendgroup": "A-",
         "marker": {
          "color": "#EF553B",
          "pattern": {
           "shape": ""
          }
         },
         "name": "A-",
         "orientation": "v",
         "showlegend": true,
         "textposition": "auto",
         "type": "bar",
         "x": [
          "Africa",
          "Asia",
          "Europe",
          "North America",
          "Oceania",
          "South America",
          "Unknown"
         ],
         "xaxis": "x",
         "y": {
          "bdata": "jwMIkkhj/z94BhwkRzT9P6K5M9XsZhhAPzVeukkMA0BmZmZmZmYKQN3+IENlhwVAoNMGOm2gC0A=",
          "dtype": "f8"
         },
         "yaxis": "y"
        },
        {
         "hovertemplate": "variable=B+<br>Continent=%{x}<br>value=%{y}<extra></extra>",
         "legendgroup": "B+",
         "marker": {
          "color": "#00cc96",
          "pattern": {
           "shape": ""
          }
         },
         "name": "B+",
         "orientation": "v",
         "showlegend": true,
         "textposition": "auto",
         "type": "bar",
         "x": [
          "Africa",
          "Asia",
          "Europe",
          "North America",
          "Oceania",
          "South America",
          "Unknown"
         ],
         "xaxis": "x",
         "y": {
          "bdata": "Emns09zwMUD8l5LQh+w2QGQ8xmM8xidA76fGSzfJJkDNzMzMzAwoQAn45tXEsx1Au7u7u7u7NEA=",
          "dtype": "f8"
         },
         "yaxis": "y"
        },
        {
         "hovertemplate": "variable=B-<br>Continent=%{x}<br>value=%{y}<extra></extra>",
         "legendgroup": "B-",
         "marker": {
          "color": "#ab63fa",
          "pattern": {
           "shape": ""
          }
         },
         "name": "B-",
         "orientation": "v",
         "showlegend": true,
         "textposition": "auto",
         "type": "bar",
         "x": [
          "Africa",
          "Asia",
          "Europe",
          "North America",
          "Oceania",
          "South America",
          "Unknown"
         ],
         "xaxis": "x",
         "y": {
          "bdata": "q8FzBIq28j+WMSxqIebvP9mJndiJnQBAuB6F61G47j+amZmZmZntP4wlv1jyi+U/k18s+cWS+z8=",
          "dtype": "f8"
         },
         "yaxis": "y"
        },
        {
         "hovertemplate": "variable=AB+<br>Continent=%{x}<br>value=%{y}<extra></extra>",
         "legendgroup": "AB+",
         "marker": {
          "color": "#FFA15A",
          "pattern": {
           "shape": ""
          }
         },
         "name": "AB+",
         "orientation": "v",
         "showlegend": true,
         "textposition": "auto",
         "type": "bar",
         "x": [
          "Africa",
          "Asia",
          "Europe",
          "North America",
          "Oceania",
          "South America",
          "Unknown"
         ],
         "xaxis": "x",
         "y": {
          "bdata": "YBl5EGWjD0ChYqvmPF0YQH3Lt3zLtxJAoBov3SQGBEDNzMzMzMwJQGSo7DB1ufk/qA102kCnGUA=",
          "dtype": "f8"
         },
         "yaxis": "y"
        },
        {
         "hovertemplate": "variable=AB-<br>Continent=%{x}<br>value=%{y}<extra></extra>",
         "legendgroup": "AB-",
         "marker": {
          "color": "#19d3f3",
          "pattern": {
           "shape": ""
          }
         },
         "name": "AB-",
         "orientation": "v",
         "showlegend": true,
         "textposition": "auto",
         "type": "bar",
         "x": [
          "Africa",
          "Asia",
          "Europe",
          "North America",
          "Oceania",
          "South America",
          "Unknown"
         ],
         "xaxis": "x",
         "y": {
          "bdata": "EefHAQRJ1D8P7P6lJPTRP/Mt3/It3+o/g8DKoUW20z9mZmZmZmbWPzwrGgn45sU/16NwPQrX0z8=",
          "dtype": "f8"
         },
         "yaxis": "y"
        },
        {
         "hovertemplate": "variable=O+<br>Continent=%{x}<br>value=%{y}<extra></extra>",
         "legendgroup": "O+",
         "marker": {
          "color": "#FF6692",
          "pattern": {
           "shape": ""
          }
         },
         "name": "O+",
         "orientation": "v",
         "showlegend": true,
         "textposition": "auto",
         "type": "bar",
         "x": [
          "Africa",
          "Asia",
          "Europe",
          "North America",
          "Oceania",
          "South America",
          "Unknown"
         ],
         "xaxis": "x",
         "y": {
          "bdata": "UfXnSSbWRkCaRoefCJBCQA4WlHR8ukBAJzEIrByKSUBmZmZmZvZFQLVgC7Zg60xApHA9CtfDQUA=",
          "dtype": "f8"
         },
         "yaxis": "y"
        },
        {
         "hovertemplate": "variable=O-<br>Continent=%{x}<br>value=%{y}<extra></extra>",
         "legendgroup": "O-",
         "marker": {
          "color": "#B6E880",
          "pattern": {
           "shape": ""
          }
         },
         "name": "O-",
         "orientation": "v",
         "showlegend": true,
         "textposition": "auto",
         "type": "bar",
         "x": [
          "Africa",
          "Asia",
          "Europe",
          "North America",
          "Oceania",
          "South America",
          "Unknown"
         ],
         "xaxis": "x",
         "y": {
          "bdata": "kgdRNvqyDkAkRzSNDj8DQPF21b1DohhAWDm0yHa+DkAzMzMzM7MUQGkk4JtXExJAA5020GkDF0A=",
          "dtype": "f8"
         },
         "yaxis": "y"
        }
       ],
       "layout": {
        "barmode": "stack",
        "height": 600,
        "legend": {
         "title": {
          "text": "variable"
         },
         "tracegroupgap": 0
        },
        "template": {
         "data": {
          "bar": [
           {
            "error_x": {
             "color": "#2a3f5f"
            },
            "error_y": {
             "color": "#2a3f5f"
            },
            "marker": {
             "line": {
              "color": "#E5ECF6",
              "width": 0.5
             },
             "pattern": {
              "fillmode": "overlay",
              "size": 10,
              "solidity": 0.2
             }
            },
            "type": "bar"
           }
          ],
          "barpolar": [
           {
            "marker": {
             "line": {
              "color": "#E5ECF6",
              "width": 0.5
             },
             "pattern": {
              "fillmode": "overlay",
              "size": 10,
              "solidity": 0.2
             }
            },
            "type": "barpolar"
           }
          ],
          "carpet": [
           {
            "aaxis": {
             "endlinecolor": "#2a3f5f",
             "gridcolor": "white",
             "linecolor": "white",
             "minorgridcolor": "white",
             "startlinecolor": "#2a3f5f"
            },
            "baxis": {
             "endlinecolor": "#2a3f5f",
             "gridcolor": "white",
             "linecolor": "white",
             "minorgridcolor": "white",
             "startlinecolor": "#2a3f5f"
            },
            "type": "carpet"
           }
          ],
          "choropleth": [
           {
            "colorbar": {
             "outlinewidth": 0,
             "ticks": ""
            },
            "type": "choropleth"
           }
          ],
          "contour": [
           {
            "colorbar": {
             "outlinewidth": 0,
             "ticks": ""
            },
            "colorscale": [
             [
              0,
              "#0d0887"
             ],
             [
              0.1111111111111111,
              "#46039f"
             ],
             [
              0.2222222222222222,
              "#7201a8"
             ],
             [
              0.3333333333333333,
              "#9c179e"
             ],
             [
              0.4444444444444444,
              "#bd3786"
             ],
             [
              0.5555555555555556,
              "#d8576b"
             ],
             [
              0.6666666666666666,
              "#ed7953"
             ],
             [
              0.7777777777777778,
              "#fb9f3a"
             ],
             [
              0.8888888888888888,
              "#fdca26"
             ],
             [
              1,
              "#f0f921"
             ]
            ],
            "type": "contour"
           }
          ],
          "contourcarpet": [
           {
            "colorbar": {
             "outlinewidth": 0,
             "ticks": ""
            },
            "type": "contourcarpet"
           }
          ],
          "heatmap": [
           {
            "colorbar": {
             "outlinewidth": 0,
             "ticks": ""
            },
            "colorscale": [
             [
              0,
              "#0d0887"
             ],
             [
              0.1111111111111111,
              "#46039f"
             ],
             [
              0.2222222222222222,
              "#7201a8"
             ],
             [
              0.3333333333333333,
              "#9c179e"
             ],
             [
              0.4444444444444444,
              "#bd3786"
             ],
             [
              0.5555555555555556,
              "#d8576b"
             ],
             [
              0.6666666666666666,
              "#ed7953"
             ],
             [
              0.7777777777777778,
              "#fb9f3a"
             ],
             [
              0.8888888888888888,
              "#fdca26"
             ],
             [
              1,
              "#f0f921"
             ]
            ],
            "type": "heatmap"
           }
          ],
          "histogram": [
           {
            "marker": {
             "pattern": {
              "fillmode": "overlay",
              "size": 10,
              "solidity": 0.2
             }
            },
            "type": "histogram"
           }
          ],
          "histogram2d": [
           {
            "colorbar": {
             "outlinewidth": 0,
             "ticks": ""
            },
            "colorscale": [
             [
              0,
              "#0d0887"
             ],
             [
              0.1111111111111111,
              "#46039f"
             ],
             [
              0.2222222222222222,
              "#7201a8"
             ],
             [
              0.3333333333333333,
              "#9c179e"
             ],
             [
              0.4444444444444444,
              "#bd3786"
             ],
             [
              0.5555555555555556,
              "#d8576b"
             ],
             [
              0.6666666666666666,
              "#ed7953"
             ],
             [
              0.7777777777777778,
              "#fb9f3a"
             ],
             [
              0.8888888888888888,
              "#fdca26"
             ],
             [
              1,
              "#f0f921"
             ]
            ],
            "type": "histogram2d"
           }
          ],
          "histogram2dcontour": [
           {
            "colorbar": {
             "outlinewidth": 0,
             "ticks": ""
            },
            "colorscale": [
             [
              0,
              "#0d0887"
             ],
             [
              0.1111111111111111,
              "#46039f"
             ],
             [
              0.2222222222222222,
              "#7201a8"
             ],
             [
              0.3333333333333333,
              "#9c179e"
             ],
             [
              0.4444444444444444,
              "#bd3786"
             ],
             [
              0.5555555555555556,
              "#d8576b"
             ],
             [
              0.6666666666666666,
              "#ed7953"
             ],
             [
              0.7777777777777778,
              "#fb9f3a"
             ],
             [
              0.8888888888888888,
              "#fdca26"
             ],
             [
              1,
              "#f0f921"
             ]
            ],
            "type": "histogram2dcontour"
           }
          ],
          "mesh3d": [
           {
            "colorbar": {
             "outlinewidth": 0,
             "ticks": ""
            },
            "type": "mesh3d"
           }
          ],
          "parcoords": [
           {
            "line": {
             "colorbar": {
              "outlinewidth": 0,
              "ticks": ""
             }
            },
            "type": "parcoords"
           }
          ],
          "pie": [
           {
            "automargin": true,
            "type": "pie"
           }
          ],
          "scatter": [
           {
            "fillpattern": {
             "fillmode": "overlay",
             "size": 10,
             "solidity": 0.2
            },
            "type": "scatter"
           }
          ],
          "scatter3d": [
           {
            "line": {
             "colorbar": {
              "outlinewidth": 0,
              "ticks": ""
             }
            },
            "marker": {
             "colorbar": {
              "outlinewidth": 0,
              "ticks": ""
             }
            },
            "type": "scatter3d"
           }
          ],
          "scattercarpet": [
           {
            "marker": {
             "colorbar": {
              "outlinewidth": 0,
              "ticks": ""
             }
            },
            "type": "scattercarpet"
           }
          ],
          "scattergeo": [
           {
            "marker": {
             "colorbar": {
              "outlinewidth": 0,
              "ticks": ""
             }
            },
            "type": "scattergeo"
           }
          ],
          "scattergl": [
           {
            "marker": {
             "colorbar": {
              "outlinewidth": 0,
              "ticks": ""
             }
            },
            "type": "scattergl"
           }
          ],
          "scattermap": [
           {
            "marker": {
             "colorbar": {
              "outlinewidth": 0,
              "ticks": ""
             }
            },
            "type": "scattermap"
           }
          ],
          "scattermapbox": [
           {
            "marker": {
             "colorbar": {
              "outlinewidth": 0,
              "ticks": ""
             }
            },
            "type": "scattermapbox"
           }
          ],
          "scatterpolar": [
           {
            "marker": {
             "colorbar": {
              "outlinewidth": 0,
              "ticks": ""
             }
            },
            "type": "scatterpolar"
           }
          ],
          "scatterpolargl": [
           {
            "marker": {
             "colorbar": {
              "outlinewidth": 0,
              "ticks": ""
             }
            },
            "type": "scatterpolargl"
           }
          ],
          "scatterternary": [
           {
            "marker": {
             "colorbar": {
              "outlinewidth": 0,
              "ticks": ""
             }
            },
            "type": "scatterternary"
           }
          ],
          "surface": [
           {
            "colorbar": {
             "outlinewidth": 0,
             "ticks": ""
            },
            "colorscale": [
             [
              0,
              "#0d0887"
             ],
             [
              0.1111111111111111,
              "#46039f"
             ],
             [
              0.2222222222222222,
              "#7201a8"
             ],
             [
              0.3333333333333333,
              "#9c179e"
             ],
             [
              0.4444444444444444,
              "#bd3786"
             ],
             [
              0.5555555555555556,
              "#d8576b"
             ],
             [
              0.6666666666666666,
              "#ed7953"
             ],
             [
              0.7777777777777778,
              "#fb9f3a"
             ],
             [
              0.8888888888888888,
              "#fdca26"
             ],
             [
              1,
              "#f0f921"
             ]
            ],
            "type": "surface"
           }
          ],
          "table": [
           {
            "cells": {
             "fill": {
              "color": "#EBF0F8"
             },
             "line": {
              "color": "white"
             }
            },
            "header": {
             "fill": {
              "color": "#C8D4E3"
             },
             "line": {
              "color": "white"
             }
            },
            "type": "table"
           }
          ]
         },
         "layout": {
          "annotationdefaults": {
           "arrowcolor": "#2a3f5f",
           "arrowhead": 0,
           "arrowwidth": 1
          },
          "autotypenumbers": "strict",
          "coloraxis": {
           "colorbar": {
            "outlinewidth": 0,
            "ticks": ""
           }
          },
          "colorscale": {
           "diverging": [
            [
             0,
             "#8e0152"
            ],
            [
             0.1,
             "#c51b7d"
            ],
            [
             0.2,
             "#de77ae"
            ],
            [
             0.3,
             "#f1b6da"
            ],
            [
             0.4,
             "#fde0ef"
            ],
            [
             0.5,
             "#f7f7f7"
            ],
            [
             0.6,
             "#e6f5d0"
            ],
            [
             0.7,
             "#b8e186"
            ],
            [
             0.8,
             "#7fbc41"
            ],
            [
             0.9,
             "#4d9221"
            ],
            [
             1,
             "#276419"
            ]
           ],
           "sequential": [
            [
             0,
             "#0d0887"
            ],
            [
             0.1111111111111111,
             "#46039f"
            ],
            [
             0.2222222222222222,
             "#7201a8"
            ],
            [
             0.3333333333333333,
             "#9c179e"
            ],
            [
             0.4444444444444444,
             "#bd3786"
            ],
            [
             0.5555555555555556,
             "#d8576b"
            ],
            [
             0.6666666666666666,
             "#ed7953"
            ],
            [
             0.7777777777777778,
             "#fb9f3a"
            ],
            [
             0.8888888888888888,
             "#fdca26"
            ],
            [
             1,
             "#f0f921"
            ]
           ],
           "sequentialminus": [
            [
             0,
             "#0d0887"
            ],
            [
             0.1111111111111111,
             "#46039f"
            ],
            [
             0.2222222222222222,
             "#7201a8"
            ],
            [
             0.3333333333333333,
             "#9c179e"
            ],
            [
             0.4444444444444444,
             "#bd3786"
            ],
            [
             0.5555555555555556,
             "#d8576b"
            ],
            [
             0.6666666666666666,
             "#ed7953"
            ],
            [
             0.7777777777777778,
             "#fb9f3a"
            ],
            [
             0.8888888888888888,
             "#fdca26"
            ],
            [
             1,
             "#f0f921"
            ]
           ]
          },
          "colorway": [
           "#636efa",
           "#EF553B",
           "#00cc96",
           "#ab63fa",
           "#FFA15A",
           "#19d3f3",
           "#FF6692",
           "#B6E880",
           "#FF97FF",
           "#FECB52"
          ],
          "font": {
           "color": "#2a3f5f"
          },
          "geo": {
           "bgcolor": "white",
           "lakecolor": "white",
           "landcolor": "#E5ECF6",
           "showlakes": true,
           "showland": true,
           "subunitcolor": "white"
          },
          "hoverlabel": {
           "align": "left"
          },
          "hovermode": "closest",
          "mapbox": {
           "style": "light"
          },
          "paper_bgcolor": "white",
          "plot_bgcolor": "#E5ECF6",
          "polar": {
           "angularaxis": {
            "gridcolor": "white",
            "linecolor": "white",
            "ticks": ""
           },
           "bgcolor": "#E5ECF6",
           "radialaxis": {
            "gridcolor": "white",
            "linecolor": "white",
            "ticks": ""
           }
          },
          "scene": {
           "xaxis": {
            "backgroundcolor": "#E5ECF6",
            "gridcolor": "white",
            "gridwidth": 2,
            "linecolor": "white",
            "showbackground": true,
            "ticks": "",
            "zerolinecolor": "white"
           },
           "yaxis": {
            "backgroundcolor": "#E5ECF6",
            "gridcolor": "white",
            "gridwidth": 2,
            "linecolor": "white",
            "showbackground": true,
            "ticks": "",
            "zerolinecolor": "white"
           },
           "zaxis": {
            "backgroundcolor": "#E5ECF6",
            "gridcolor": "white",
            "gridwidth": 2,
            "linecolor": "white",
            "showbackground": true,
            "ticks": "",
            "zerolinecolor": "white"
           }
          },
          "shapedefaults": {
           "line": {
            "color": "#2a3f5f"
           }
          },
          "ternary": {
           "aaxis": {
            "gridcolor": "white",
            "linecolor": "white",
            "ticks": ""
           },
           "baxis": {
            "gridcolor": "white",
            "linecolor": "white",
            "ticks": ""
           },
           "bgcolor": "#E5ECF6",
           "caxis": {
            "gridcolor": "white",
            "linecolor": "white",
            "ticks": ""
           }
          },
          "title": {
           "x": 0.05
          },
          "xaxis": {
           "automargin": true,
           "gridcolor": "white",
           "linecolor": "white",
           "ticks": "",
           "title": {
            "standoff": 15
           },
           "zerolinecolor": "white",
           "zerolinewidth": 2
          },
          "yaxis": {
           "automargin": true,
           "gridcolor": "white",
           "linecolor": "white",
           "ticks": "",
           "title": {
            "standoff": 15
           },
           "zerolinecolor": "white",
           "zerolinewidth": 2
          }
         }
        },
        "title": {
         "text": "Average Blood Type Distribution by Continent"
        },
        "width": 1000,
        "xaxis": {
         "anchor": "y",
         "domain": [
          0,
          1
         ],
         "tickangle": -45,
         "title": {
          "text": "Continent"
         }
        },
        "yaxis": {
         "anchor": "x",
         "domain": [
          0,
          1
         ],
         "title": {
          "text": "value"
         }
        }
       }
      }
     },
     "metadata": {},
     "output_type": "display_data"
    }
   ],
   "source": [
    "# Group by Continent\n",
    "df_continent = df.groupby(\"Continent\")[blood_groups].mean().reset_index()\n",
    "\n",
    "# Stacked Bar Chart\n",
    "fig = px.bar(\n",
    "    df_continent,\n",
    "    x=\"Continent\",\n",
    "    y=blood_groups,\n",
    "    title=\"Average Blood Type Distribution by Continent\",\n",
    "    barmode=\"stack\"\n",
    ")\n",
    "\n",
    "fig.update_layout(\n",
    "    xaxis_tickangle=-45,\n",
    "    height=600,\n",
    "    width=1000\n",
    ")\n",
    "\n",
    "fig.show()"
   ]
  },
  {
   "cell_type": "code",
   "execution_count": 32,
   "metadata": {},
   "outputs": [
    {
     "data": {
      "application/vnd.plotly.v1+json": {
       "config": {
        "plotlyServerURL": "https://plot.ly"
       },
       "data": [
        {
         "hovertemplate": "Blood Type=%{x}<br>Number of Countries=%{y}<extra></extra>",
         "legendgroup": "",
         "marker": {
          "color": "#636efa",
          "pattern": {
           "shape": ""
          }
         },
         "name": "",
         "orientation": "v",
         "showlegend": false,
         "textposition": "auto",
         "type": "bar",
         "x": [
          "AB-",
          "A-",
          "O-",
          "B-",
          "AB+"
         ],
         "xaxis": "x",
         "y": {
          "bdata": "eQIBAQE=",
          "dtype": "i1"
         },
         "yaxis": "y"
        }
       ],
       "layout": {
        "barmode": "relative",
        "legend": {
         "tracegroupgap": 0
        },
        "template": {
         "data": {
          "bar": [
           {
            "error_x": {
             "color": "#2a3f5f"
            },
            "error_y": {
             "color": "#2a3f5f"
            },
            "marker": {
             "line": {
              "color": "#E5ECF6",
              "width": 0.5
             },
             "pattern": {
              "fillmode": "overlay",
              "size": 10,
              "solidity": 0.2
             }
            },
            "type": "bar"
           }
          ],
          "barpolar": [
           {
            "marker": {
             "line": {
              "color": "#E5ECF6",
              "width": 0.5
             },
             "pattern": {
              "fillmode": "overlay",
              "size": 10,
              "solidity": 0.2
             }
            },
            "type": "barpolar"
           }
          ],
          "carpet": [
           {
            "aaxis": {
             "endlinecolor": "#2a3f5f",
             "gridcolor": "white",
             "linecolor": "white",
             "minorgridcolor": "white",
             "startlinecolor": "#2a3f5f"
            },
            "baxis": {
             "endlinecolor": "#2a3f5f",
             "gridcolor": "white",
             "linecolor": "white",
             "minorgridcolor": "white",
             "startlinecolor": "#2a3f5f"
            },
            "type": "carpet"
           }
          ],
          "choropleth": [
           {
            "colorbar": {
             "outlinewidth": 0,
             "ticks": ""
            },
            "type": "choropleth"
           }
          ],
          "contour": [
           {
            "colorbar": {
             "outlinewidth": 0,
             "ticks": ""
            },
            "colorscale": [
             [
              0,
              "#0d0887"
             ],
             [
              0.1111111111111111,
              "#46039f"
             ],
             [
              0.2222222222222222,
              "#7201a8"
             ],
             [
              0.3333333333333333,
              "#9c179e"
             ],
             [
              0.4444444444444444,
              "#bd3786"
             ],
             [
              0.5555555555555556,
              "#d8576b"
             ],
             [
              0.6666666666666666,
              "#ed7953"
             ],
             [
              0.7777777777777778,
              "#fb9f3a"
             ],
             [
              0.8888888888888888,
              "#fdca26"
             ],
             [
              1,
              "#f0f921"
             ]
            ],
            "type": "contour"
           }
          ],
          "contourcarpet": [
           {
            "colorbar": {
             "outlinewidth": 0,
             "ticks": ""
            },
            "type": "contourcarpet"
           }
          ],
          "heatmap": [
           {
            "colorbar": {
             "outlinewidth": 0,
             "ticks": ""
            },
            "colorscale": [
             [
              0,
              "#0d0887"
             ],
             [
              0.1111111111111111,
              "#46039f"
             ],
             [
              0.2222222222222222,
              "#7201a8"
             ],
             [
              0.3333333333333333,
              "#9c179e"
             ],
             [
              0.4444444444444444,
              "#bd3786"
             ],
             [
              0.5555555555555556,
              "#d8576b"
             ],
             [
              0.6666666666666666,
              "#ed7953"
             ],
             [
              0.7777777777777778,
              "#fb9f3a"
             ],
             [
              0.8888888888888888,
              "#fdca26"
             ],
             [
              1,
              "#f0f921"
             ]
            ],
            "type": "heatmap"
           }
          ],
          "histogram": [
           {
            "marker": {
             "pattern": {
              "fillmode": "overlay",
              "size": 10,
              "solidity": 0.2
             }
            },
            "type": "histogram"
           }
          ],
          "histogram2d": [
           {
            "colorbar": {
             "outlinewidth": 0,
             "ticks": ""
            },
            "colorscale": [
             [
              0,
              "#0d0887"
             ],
             [
              0.1111111111111111,
              "#46039f"
             ],
             [
              0.2222222222222222,
              "#7201a8"
             ],
             [
              0.3333333333333333,
              "#9c179e"
             ],
             [
              0.4444444444444444,
              "#bd3786"
             ],
             [
              0.5555555555555556,
              "#d8576b"
             ],
             [
              0.6666666666666666,
              "#ed7953"
             ],
             [
              0.7777777777777778,
              "#fb9f3a"
             ],
             [
              0.8888888888888888,
              "#fdca26"
             ],
             [
              1,
              "#f0f921"
             ]
            ],
            "type": "histogram2d"
           }
          ],
          "histogram2dcontour": [
           {
            "colorbar": {
             "outlinewidth": 0,
             "ticks": ""
            },
            "colorscale": [
             [
              0,
              "#0d0887"
             ],
             [
              0.1111111111111111,
              "#46039f"
             ],
             [
              0.2222222222222222,
              "#7201a8"
             ],
             [
              0.3333333333333333,
              "#9c179e"
             ],
             [
              0.4444444444444444,
              "#bd3786"
             ],
             [
              0.5555555555555556,
              "#d8576b"
             ],
             [
              0.6666666666666666,
              "#ed7953"
             ],
             [
              0.7777777777777778,
              "#fb9f3a"
             ],
             [
              0.8888888888888888,
              "#fdca26"
             ],
             [
              1,
              "#f0f921"
             ]
            ],
            "type": "histogram2dcontour"
           }
          ],
          "mesh3d": [
           {
            "colorbar": {
             "outlinewidth": 0,
             "ticks": ""
            },
            "type": "mesh3d"
           }
          ],
          "parcoords": [
           {
            "line": {
             "colorbar": {
              "outlinewidth": 0,
              "ticks": ""
             }
            },
            "type": "parcoords"
           }
          ],
          "pie": [
           {
            "automargin": true,
            "type": "pie"
           }
          ],
          "scatter": [
           {
            "fillpattern": {
             "fillmode": "overlay",
             "size": 10,
             "solidity": 0.2
            },
            "type": "scatter"
           }
          ],
          "scatter3d": [
           {
            "line": {
             "colorbar": {
              "outlinewidth": 0,
              "ticks": ""
             }
            },
            "marker": {
             "colorbar": {
              "outlinewidth": 0,
              "ticks": ""
             }
            },
            "type": "scatter3d"
           }
          ],
          "scattercarpet": [
           {
            "marker": {
             "colorbar": {
              "outlinewidth": 0,
              "ticks": ""
             }
            },
            "type": "scattercarpet"
           }
          ],
          "scattergeo": [
           {
            "marker": {
             "colorbar": {
              "outlinewidth": 0,
              "ticks": ""
             }
            },
            "type": "scattergeo"
           }
          ],
          "scattergl": [
           {
            "marker": {
             "colorbar": {
              "outlinewidth": 0,
              "ticks": ""
             }
            },
            "type": "scattergl"
           }
          ],
          "scattermap": [
           {
            "marker": {
             "colorbar": {
              "outlinewidth": 0,
              "ticks": ""
             }
            },
            "type": "scattermap"
           }
          ],
          "scattermapbox": [
           {
            "marker": {
             "colorbar": {
              "outlinewidth": 0,
              "ticks": ""
             }
            },
            "type": "scattermapbox"
           }
          ],
          "scatterpolar": [
           {
            "marker": {
             "colorbar": {
              "outlinewidth": 0,
              "ticks": ""
             }
            },
            "type": "scatterpolar"
           }
          ],
          "scatterpolargl": [
           {
            "marker": {
             "colorbar": {
              "outlinewidth": 0,
              "ticks": ""
             }
            },
            "type": "scatterpolargl"
           }
          ],
          "scatterternary": [
           {
            "marker": {
             "colorbar": {
              "outlinewidth": 0,
              "ticks": ""
             }
            },
            "type": "scatterternary"
           }
          ],
          "surface": [
           {
            "colorbar": {
             "outlinewidth": 0,
             "ticks": ""
            },
            "colorscale": [
             [
              0,
              "#0d0887"
             ],
             [
              0.1111111111111111,
              "#46039f"
             ],
             [
              0.2222222222222222,
              "#7201a8"
             ],
             [
              0.3333333333333333,
              "#9c179e"
             ],
             [
              0.4444444444444444,
              "#bd3786"
             ],
             [
              0.5555555555555556,
              "#d8576b"
             ],
             [
              0.6666666666666666,
              "#ed7953"
             ],
             [
              0.7777777777777778,
              "#fb9f3a"
             ],
             [
              0.8888888888888888,
              "#fdca26"
             ],
             [
              1,
              "#f0f921"
             ]
            ],
            "type": "surface"
           }
          ],
          "table": [
           {
            "cells": {
             "fill": {
              "color": "#EBF0F8"
             },
             "line": {
              "color": "white"
             }
            },
            "header": {
             "fill": {
              "color": "#C8D4E3"
             },
             "line": {
              "color": "white"
             }
            },
            "type": "table"
           }
          ]
         },
         "layout": {
          "annotationdefaults": {
           "arrowcolor": "#2a3f5f",
           "arrowhead": 0,
           "arrowwidth": 1
          },
          "autotypenumbers": "strict",
          "coloraxis": {
           "colorbar": {
            "outlinewidth": 0,
            "ticks": ""
           }
          },
          "colorscale": {
           "diverging": [
            [
             0,
             "#8e0152"
            ],
            [
             0.1,
             "#c51b7d"
            ],
            [
             0.2,
             "#de77ae"
            ],
            [
             0.3,
             "#f1b6da"
            ],
            [
             0.4,
             "#fde0ef"
            ],
            [
             0.5,
             "#f7f7f7"
            ],
            [
             0.6,
             "#e6f5d0"
            ],
            [
             0.7,
             "#b8e186"
            ],
            [
             0.8,
             "#7fbc41"
            ],
            [
             0.9,
             "#4d9221"
            ],
            [
             1,
             "#276419"
            ]
           ],
           "sequential": [
            [
             0,
             "#0d0887"
            ],
            [
             0.1111111111111111,
             "#46039f"
            ],
            [
             0.2222222222222222,
             "#7201a8"
            ],
            [
             0.3333333333333333,
             "#9c179e"
            ],
            [
             0.4444444444444444,
             "#bd3786"
            ],
            [
             0.5555555555555556,
             "#d8576b"
            ],
            [
             0.6666666666666666,
             "#ed7953"
            ],
            [
             0.7777777777777778,
             "#fb9f3a"
            ],
            [
             0.8888888888888888,
             "#fdca26"
            ],
            [
             1,
             "#f0f921"
            ]
           ],
           "sequentialminus": [
            [
             0,
             "#0d0887"
            ],
            [
             0.1111111111111111,
             "#46039f"
            ],
            [
             0.2222222222222222,
             "#7201a8"
            ],
            [
             0.3333333333333333,
             "#9c179e"
            ],
            [
             0.4444444444444444,
             "#bd3786"
            ],
            [
             0.5555555555555556,
             "#d8576b"
            ],
            [
             0.6666666666666666,
             "#ed7953"
            ],
            [
             0.7777777777777778,
             "#fb9f3a"
            ],
            [
             0.8888888888888888,
             "#fdca26"
            ],
            [
             1,
             "#f0f921"
            ]
           ]
          },
          "colorway": [
           "#636efa",
           "#EF553B",
           "#00cc96",
           "#ab63fa",
           "#FFA15A",
           "#19d3f3",
           "#FF6692",
           "#B6E880",
           "#FF97FF",
           "#FECB52"
          ],
          "font": {
           "color": "#2a3f5f"
          },
          "geo": {
           "bgcolor": "white",
           "lakecolor": "white",
           "landcolor": "#E5ECF6",
           "showlakes": true,
           "showland": true,
           "subunitcolor": "white"
          },
          "hoverlabel": {
           "align": "left"
          },
          "hovermode": "closest",
          "mapbox": {
           "style": "light"
          },
          "paper_bgcolor": "white",
          "plot_bgcolor": "#E5ECF6",
          "polar": {
           "angularaxis": {
            "gridcolor": "white",
            "linecolor": "white",
            "ticks": ""
           },
           "bgcolor": "#E5ECF6",
           "radialaxis": {
            "gridcolor": "white",
            "linecolor": "white",
            "ticks": ""
           }
          },
          "scene": {
           "xaxis": {
            "backgroundcolor": "#E5ECF6",
            "gridcolor": "white",
            "gridwidth": 2,
            "linecolor": "white",
            "showbackground": true,
            "ticks": "",
            "zerolinecolor": "white"
           },
           "yaxis": {
            "backgroundcolor": "#E5ECF6",
            "gridcolor": "white",
            "gridwidth": 2,
            "linecolor": "white",
            "showbackground": true,
            "ticks": "",
            "zerolinecolor": "white"
           },
           "zaxis": {
            "backgroundcolor": "#E5ECF6",
            "gridcolor": "white",
            "gridwidth": 2,
            "linecolor": "white",
            "showbackground": true,
            "ticks": "",
            "zerolinecolor": "white"
           }
          },
          "shapedefaults": {
           "line": {
            "color": "#2a3f5f"
           }
          },
          "ternary": {
           "aaxis": {
            "gridcolor": "white",
            "linecolor": "white",
            "ticks": ""
           },
           "baxis": {
            "gridcolor": "white",
            "linecolor": "white",
            "ticks": ""
           },
           "bgcolor": "#E5ECF6",
           "caxis": {
            "gridcolor": "white",
            "linecolor": "white",
            "ticks": ""
           }
          },
          "title": {
           "x": 0.05
          },
          "xaxis": {
           "automargin": true,
           "gridcolor": "white",
           "linecolor": "white",
           "ticks": "",
           "title": {
            "standoff": 15
           },
           "zerolinecolor": "white",
           "zerolinewidth": 2
          },
          "yaxis": {
           "automargin": true,
           "gridcolor": "white",
           "linecolor": "white",
           "ticks": "",
           "title": {
            "standoff": 15
           },
           "zerolinecolor": "white",
           "zerolinewidth": 2
          }
         }
        },
        "title": {
         "text": "Rarest Blood Type Distribution Across Countries"
        },
        "xaxis": {
         "anchor": "y",
         "domain": [
          0,
          1
         ],
         "title": {
          "text": "Blood Type"
         }
        },
        "yaxis": {
         "anchor": "x",
         "domain": [
          0,
          1
         ],
         "title": {
          "text": "Number of Countries"
         }
        }
       }
      }
     },
     "metadata": {},
     "output_type": "display_data"
    }
   ],
   "source": [
    "# Find the rarest blood type for each country\n",
    "df[\"Rarest_Blood_Type\"] = df[[\"O+\", \"A+\", \"B+\", \"AB+\", \"O-\", \"A-\", \"B-\", \"AB-\"]].idxmin(axis=1)\n",
    "\n",
    "# Count occurrences of rarest blood types\n",
    "rare_blood_counts = df[\"Rarest_Blood_Type\"].value_counts()\n",
    "\n",
    "# Bar chart of rarest blood types worldwide\n",
    "fig = px.bar(\n",
    "    x=rare_blood_counts.index,\n",
    "    y=rare_blood_counts.values,\n",
    "    title=\"Rarest Blood Type Distribution Across Countries\",\n",
    "    labels={\"x\": \"Blood Type\", \"y\": \"Number of Countries\"}\n",
    ")\n",
    "\n",
    "fig.show()\n"
   ]
  },
  {
   "cell_type": "code",
   "execution_count": 33,
   "metadata": {},
   "outputs": [
    {
     "data": {
      "image/png": "[encoded data removed]",
      "text/plain": [
       "<Figure size 1000x600 with 2 Axes>"
      ]
     },
     "metadata": {},
     "output_type": "display_data"
    }
   ],
   "source": [
    "import seaborn as sns\n",
    "import matplotlib.pyplot as plt\n",
    "\n",
    "# Convert Population to numeric if not already\n",
    "df[\"Population\"] = df[\"Population\"].astype(float)\n",
    "\n",
    "# Correlation matrix\n",
    "correlation_matrix = df[[\"Population\", \"O+\", \"A+\", \"B+\", \"AB+\", \"O-\", \"A-\", \"B-\", \"AB-\"]].corr()\n",
    "\n",
    "# Heatmap of Correlation\n",
    "plt.figure(figsize=(10, 6))\n",
    "sns.heatmap(correlation_matrix, annot=True, cmap=\"coolwarm\", fmt=\".2f\", linewidths=0.5)\n",
    "plt.title(\"Correlation Between Population and Blood Type Distribution\")\n",
    "plt.show()\n"
   ]
  }
 ],
 "metadata": {
  "kernelspec": {
   "display_name": "blood_dashboard_env",
   "language": "python",
   "name": "python3"
  },
  "language_info": {
   "codemirror_mode": {
    "name": "ipython",
    "version": 3
   },
   "file_extension": ".py",
   "mimetype": "text/x-python",
   "name": "python",
   "nbconvert_exporter": "python",
   "pygments_lexer": "ipython3",
   "version": "3.13.2"
  }
 },
 "nbformat": 4,
 "nbformat_minor": 2
}
